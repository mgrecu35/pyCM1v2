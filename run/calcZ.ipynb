{
 "cells": [
  {
   "cell_type": "code",
   "execution_count": 19,
   "metadata": {},
   "outputs": [],
   "source": [
    "import sys\n",
    "sys.path.append('/Users/mgrecu/myPythonPackages/')\n",
    "from importlib import reload\n",
    "import lkTables \n",
    "import lkTables as lkT\n",
    "lkTables=lkT.scattTables()\n",
    "from bisectm import bisectm\n",
    "fname=\"/Users/mgrecu/ORO/Data/wrfout_d04_2014-06-11_00:00_conv_dbz.nc\"\n",
    "import netCDF4 as nc\n",
    "# Open the NetCDF file\n",
    "ncfile = nc.Dataset(fname)\n"
   ]
  },
  {
   "cell_type": "code",
   "execution_count": 13,
   "metadata": {},
   "outputs": [],
   "source": [
    "dbz=ncfile.variables['dbz'][:]\n",
    "qrain=ncfile.variables['qrain'][:]\n",
    "qgraup=ncfile.variables['qgraup'][:]\n",
    "qice=ncfile.variables['qice'][:]\n",
    "qsnow=ncfile.variables['qsnow'][:]\n",
    "qhail=ncfile.variables['qhail'][:]\n",
    "rho=ncfile.variables['rho'][:]\n",
    "height=ncfile.variables['height'][:]"
   ]
  },
  {
   "cell_type": "code",
   "execution_count": 20,
   "metadata": {},
   "outputs": [
    {
     "name": "stdout",
     "output_type": "stream",
     "text": [
      "['__class__', '__delattr__', '__dict__', '__dir__', '__doc__', '__eq__', '__format__', '__ge__', '__getattribute__', '__gt__', '__hash__', '__init__', '__init_subclass__', '__le__', '__lt__', '__module__', '__ne__', '__new__', '__reduce__', '__reduce_ex__', '__repr__', '__setattr__', '__sizeof__', '__str__', '__subclasshook__', '__weakref__', 'asymBB', 'asymG', 'asymR', 'asymS', 'attKaBB', 'attKaG', 'attKaR', 'attKaS', 'attKuBB', 'attKuG', 'attKuR', 'attKuS', 'dmBB', 'dmg', 'dmr', 'dms', 'fh', 'fhBB', 'graupRate', 'gwc', 'kextBB', 'kextG', 'kextR', 'kextS', 'precRateBB', 'rainRate', 'rwc', 'salbBB', 'salbG', 'salbR', 'salbS', 'snowRate', 'swc', 'zKaBB', 'zKaG', 'zKaR', 'zKaS', 'zKuBB', 'zKuG', 'zKuR', 'zKuS']\n"
     ]
    }
   ],
   "source": [
    "print(dir(lkT.scattTables))"
   ]
  },
  {
   "cell_type": "code",
   "execution_count": 11,
   "metadata": {},
   "outputs": [
    {
     "name": "stderr",
     "output_type": "stream",
     "text": [
      "/var/folders/x_/d2_jzyq50052xh1_tk02bnmc0000gq/T/ipykernel_96698/1580689348.py:3: DeprecationWarning: Converting `np.integer` or `np.signedinteger` to a dtype is deprecated. The current result is `np.dtype(np.int_)` which is not strictly correct. Note that the result depends on the system. To ensure stable results use may want to use `np.int64` or `np.int32`.\n",
      "  zcfad=np.zeros((50,80),np.integer)\n"
     ]
    }
   ],
   "source": [
    "import numpy as np\n",
    "import matplotlib.pyplot as plt\n",
    "zcfad=np.zeros((50,80),np.integer)\n",
    "for i,dbz1 in enumerate(dbz[:,:,4,4]):\n",
    "    for k,z1 in enumerate(dbz1):\n",
    "        i0=int(z1-15)\n",
    "        k0=int(height[i,k]/0.25)\n",
    "        if i0>=0 and i0<50 and k0>=0 and k0<80:\n",
    "            zcfad[i0,k0]+=1"
   ]
  },
  {
   "cell_type": "code",
   "execution_count": 8,
   "metadata": {},
   "outputs": [
    {
     "name": "stdout",
     "output_type": "stream",
     "text": [
      "(8077, 120, 9, 9)\n"
     ]
    }
   ],
   "source": [
    "print(dbz.shape)"
   ]
  },
  {
   "cell_type": "code",
   "execution_count": 12,
   "metadata": {},
   "outputs": [
    {
     "data": {
      "text/plain": [
       "(0.0, 12.0)"
      ]
     },
     "execution_count": 12,
     "metadata": {},
     "output_type": "execute_result"
    },
    {
     "data": {
      "image/png": "[encoded data removed]",
      "text/plain": [
       "<Figure size 640x480 with 1 Axes>"
      ]
     },
     "metadata": {},
     "output_type": "display_data"
    }
   ],
   "source": [
    "from matplotlib.colors import LogNorm\n",
    "plt.pcolormesh(np.arange(50)+15,np.arange(80)*0.25,zcfad.T,cmap='jet',norm=LogNorm())\n",
    "plt.ylim(0,12)"
   ]
  }
 ],
 "metadata": {
  "kernelspec": {
   "display_name": "base",
   "language": "python",
   "name": "python3"
  },
  "language_info": {
   "codemirror_mode": {
    "name": "ipython",
    "version": 3
   },
   "file_extension": ".py",
   "mimetype": "text/x-python",
   "name": "python",
   "nbconvert_exporter": "python",
   "pygments_lexer": "ipython3",
   "version": "3.9.13"
  },
  "orig_nbformat": 4
 },
 "nbformat": 4,
 "nbformat_minor": 2
}
