{
 "cells": [
  {
   "cell_type": "code",
   "execution_count": 1,
   "metadata": {},
   "outputs": [],
   "source": [
    "#d={\"q3dten\":q3dtenL_,\"th3dten\":th3dtenL_,\"w3d\":w3dL_,\"q3d\":q3dL_,\"th3d\":th3dL_,\"prs\":prsL_}\n",
    "import numpy as np\n",
    "import matplotlib.pyplot as plt\n",
    "import netCDF4 as nc\n",
    "\n",
    "with nc.Dataset(\"mcs_ten.nc\") as f:\n",
    "    q3dten=f.variables[\"q3dten\"][:]\n",
    "    th3dten=f.variables[\"th3dten\"][:]\n",
    "    w3d=f.variables[\"w3d\"][:]\n",
    "    q3d=f.variables[\"q3d\"][:]\n",
    "    th3d=f.variables[\"th3d\"][:]\n",
    "    prs=f.variables[\"prs\"][:]\n",
    "    #timeL=f.variables[\"time\"][:]\n",
    "\n"
   ]
  },
  {
   "cell_type": "code",
   "execution_count": 2,
   "metadata": {},
   "outputs": [],
   "source": [
    "\n",
    "with nc.Dataset('cm1out.nc','r') as f:\n",
    "    zh=f['zh'][:]\n",
    "    zf=f['zf'][:]\n",
    "    xh=f['xh'][:]\n",
    "    qr=f['qr'][:]"
   ]
  },
  {
   "cell_type": "code",
   "execution_count": 3,
   "metadata": {},
   "outputs": [],
   "source": [
    "#print(th3d.shape)\n",
    "#print(th3d[-1,100,5,:])\n",
    "rho=prs/(287.05*th3d)\n",
    "#print(rho[-1,100,5,:])\n",
    "#print(prs[-1,100,5,:10])\n",
    "zf=np.array([0.0, 0.125, 0.25, 0.37500003, 0.5, 0.625, 0.75000006, 0.87500006, 1.0, 1.125, 1.25, 1.3750001, 1.5000001, 1.6250001, 1.7500001, 1.8750001, 2.0, 2.125, 2.261364, 2.409091, 2.568182, 2.7386365, 2.9204547, 3.1136367, 3.318182, 3.534091, 3.761364, 4.0, 4.25, 4.5, 4.75, 5.0, 5.2500005, 5.5000005, 5.7500005, 6.0000005, 6.2500005, 6.5000005, 6.7500005, 7.0000005, 7.2500005, 7.5000005, 7.7500005, 8.0, 8.25, 8.5, 8.75, 9.0, 9.25, 9.5, 9.75, 10.0, 10.250001, 10.500001, 10.750001, 11.000001, 11.250001, 11.500001, 11.750001, 12.000001, 12.250001, 12.500001, 12.750001, 13.000001, 13.250001, 13.500001, 13.750001, 14.000001, 14.250001, 14.500001, 14.750001, 15.000001, 15.250001, 15.500001, 15.750001, 16.0, 16.25, 16.5, 16.75, 17.0, 17.25, 17.5, 17.75, 18.0, 18.25, 18.5, 18.75])\n",
    "q3dtot_tend=np.sum(q3dten[:,:,:,:,0:6],axis=-1)"
   ]
  },
  {
   "cell_type": "code",
   "execution_count": 4,
   "metadata": {},
   "outputs": [],
   "source": [
    "dz=zf[1:]-zf[:-1]\n",
    "it=-1\n",
    "i1=60\n",
    "j1=5\n",
    "from numba import jit\n",
    "\n",
    "dq_dt=q3dtot_tend[:,:,:,:].copy()*0.0\n",
    "nz=dq_dt.shape[-1]\n",
    "for k in range(nz-2,-1,-1):\n",
    "    dq_dt[:,:,:,k]=dq_dt[:,:,:,k+1]+q3dtot_tend[:,:,:,k]*dz[k]*rho[:,:,:,k] # need a rho here\n",
    "dq_dt=-dq_dt"
   ]
  },
  {
   "cell_type": "code",
   "execution_count": 5,
   "metadata": {},
   "outputs": [],
   "source": [
    "nt,nx,ny,nz=dq_dt.shape\n",
    "x_phy=np.stack([prs/1e5,(th3d-273.15),q3d[:,:,:,:,1:6].sum(axis=-1),q3d[:,:,:,:,0]],axis=-1)\n"
   ]
  },
  {
   "cell_type": "code",
   "execution_count": 6,
   "metadata": {},
   "outputs": [
    {
     "name": "stdout",
     "output_type": "stream",
     "text": [
      "0.00045944384 -3.9554848e-06\n"
     ]
    }
   ],
   "source": [
    "\n",
    "print(dq_dt.max(),dq_dt.min())"
   ]
  },
  {
   "cell_type": "code",
   "execution_count": 8,
   "metadata": {},
   "outputs": [
    {
     "name": "stdout",
     "output_type": "stream",
     "text": [
      "9472432\n"
     ]
    }
   ],
   "source": [
    "a=np.nonzero(dq_dt>0.1e-6)\n",
    "print(len(a[0]))\n",
    "fluxTb=np.zeros((120,210))\n",
    "cfluxTb=np.zeros((120,210))\n",
    "for it,i1,j1,k1 in zip(a[0],a[1],a[2],a[3]):\n",
    "    it1=int((-x_phy[it,i1,j1,k1,1])+30)\n",
    "    iq=int(x_phy[it,i1,j1,k1,2]/0.00005)\n",
    "    #print(it1,iq,x_phy[it,i1,j1,k1,1],x_phy[it,i1,j1,k1,2])\n",
    "    #stop\n",
    "    if it1<0 or it1>119 or iq<0 or iq>209:\n",
    "        continue\n",
    "    fluxTb[it1,iq]+=dq_dt[it,i1,j1,k1]\n",
    "    cfluxTb[it1,iq]+=1\n",
    "    \n",
    "fluxTb[cfluxTb>0]=fluxTb[cfluxTb>0]/cfluxTb[cfluxTb>0]"
   ]
  },
  {
   "cell_type": "code",
   "execution_count": 9,
   "metadata": {},
   "outputs": [
    {
     "name": "stdout",
     "output_type": "stream",
     "text": [
      "26419200\n"
     ]
    }
   ],
   "source": [
    "import numpy as np\n",
    "aq=np.nonzero(q3d[:,:,:,:,0]>0.1e-6)\n",
    "print(len(aq[0]))\n",
    "cond=np.zeros((120,180))\n",
    "ccond=np.zeros((120,180))\n",
    "import saturation as sat\n",
    "mccount=0\n",
    "dccount=0\n",
    "sat_ratio=[]\n",
    "cond_qvqvs=np.zeros((120,180))\n",
    "np1=10000000\n",
    "xL=[]\n",
    "yL=[]\n",
    "ymL=[]\n",
    "for it,i1,j1,k1 in zip(aq[0][:np1],aq[1][:np1],aq[2][:np1],aq[3][:np1]):\n",
    "    qvs,qvi = sat.saturation(th3d[it,i1,j1,k1],prs[it,i1,j1,k1])\n",
    "    xL.append([q3d[it,i1,j1,k1,0]/qvs,q3d[it,i1,j1,k1,0]/0.001,(th3d[it,i1,j1,k1]-273.15)/10,\\\n",
    "              prs[it,i1,j1,k1]/1e5,q3d[it,i1,j1,k1,1:6].sum()/0.001])\n",
    "    ymL.append([q3dten[it,i1,j1,k1,0],th3dten[it,i1,j1,k1],w3d[it,i1,j1,k1]])\n",
    "    yL.append([q3dten[it,i1,j1,k1,0]])\n",
    "    if q3dten[it,i1,j1,k1,0]<0:\n",
    "        mccount+=1\n",
    "        qvs,qvi = sat.saturation(th3d[it,i1,j1,k1],prs[it,i1,j1,k1])\n",
    "        sat_ratio.append(q3d[it,i1,j1,k1,0]/qvs)\n",
    "        cond[it1,iq]+=q3dten[it,i1,j1,k1,0]\n",
    "        cond_qvqvs[it1,iq]+=q3d[it,i1,j1,k1,0]/qvs\n",
    "        ccond[it1,iq]+=1\n",
    "\n",
    "cond[ccond>0]=cond[ccond>0]/ccond[ccond>0]\n",
    "cond_qvqvs[ccond>0]=cond_qvqvs[ccond>0]/ccond[ccond>0]\n"
   ]
  },
  {
   "cell_type": "code",
   "execution_count": 10,
   "metadata": {},
   "outputs": [],
   "source": [
    "from sklearn.ensemble import HistGradientBoostingRegressor\n",
    "from sklearn.ensemble import GradientBoostingRegressor\n",
    "xL=np.array(xL)\n",
    "yL=np.array(yL)\n",
    "ymL=np.array(ymL)\n",
    "from sklearn.model_selection import train_test_split\n",
    "x_train, x_test, y_train, y_test,ym_train,ym_test = train_test_split(xL, yL[:,0], ymL,test_size=0.2, random_state=0)\n",
    "histGradRegressor=HistGradientBoostingRegressor(max_iter=3000,max_bins=255,learning_rate=0.1)\n",
    "#histGradRegressor.fit(x_train,y_train)"
   ]
  },
  {
   "cell_type": "code",
   "execution_count": null,
   "metadata": {},
   "outputs": [],
   "source": [
    "#gradBoostingRegressor=GradientBoostingRegressor(max_depth=10,n_estimators=1000,learning_rate=0.1)\n",
    "#gradBoostingRegressor.fit(x_train,y_train)\n",
    "#print(dir(histGradRegressor))\n",
    "print(histGradRegressor.max_bins)\n",
    "print(histGradRegressor.max_depth)\n",
    "import lightgbm as lgb \n",
    "\n",
    "lgb_model=lgb.LGBMRegressor(max_depth=10,n_estimators=1000,learning_rate=0.1)\n",
    "lgb_model.fit(x_train,y_train*2e3)\n",
    "\n"
   ]
  },
  {
   "cell_type": "code",
   "execution_count": 92,
   "metadata": {},
   "outputs": [
    {
     "name": "stdout",
     "output_type": "stream",
     "text": [
      "[[1.         0.97307957]\n",
      " [0.97307957 1.        ]]\n",
      "-1.3483842e-06 -1.352058226698528e-06\n",
      "['_Booster', '__class__', '__delattr__', '__dict__', '__dir__', '__doc__', '__eq__', '__format__', '__ge__', '__getattribute__', '__getstate__', '__gt__', '__hash__', '__init__', '__init_subclass__', '__le__', '__lt__', '__module__', '__ne__', '__new__', '__reduce__', '__reduce_ex__', '__repr__', '__setattr__', '__setstate__', '__sizeof__', '__sklearn_is_fitted__', '__str__', '__subclasshook__', '__weakref__', '_base_doc', '_best_iteration', '_best_score', '_check_feature_names', '_check_n_features', '_class_map', '_class_weight', '_classes', '_estimator_type', '_evals_result', '_get_param_names', '_get_tags', '_more_tags', '_n_classes', '_n_features', '_n_features_in', '_objective', '_other_params', '_process_n_jobs', '_process_params', '_repr_html_', '_repr_html_inner', '_repr_mimebundle_', '_validate_data', 'best_iteration_', 'best_score_', 'booster_', 'boosting_type', 'class_weight', 'colsample_bytree', 'evals_result_', 'feature_importances_', 'feature_name_', 'fit', 'fitted_', 'get_params', 'importance_type', 'learning_rate', 'max_depth', 'min_child_samples', 'min_child_weight', 'min_split_gain', 'n_estimators', 'n_estimators_', 'n_features_', 'n_features_in_', 'n_iter_', 'n_jobs', 'num_leaves', 'objective', 'objective_', 'predict', 'random_state', 'reg_alpha', 'reg_lambda', 'score', 'set_params', 'subsample', 'subsample_for_bin', 'subsample_freq']\n"
     ]
    },
    {
     "data": {
      "image/png": "[encoded data removed]",
      "text/plain": [
       "<Figure size 640x480 with 1 Axes>"
      ]
     },
     "metadata": {},
     "output_type": "display_data"
    }
   ],
   "source": [
    "#plt.hist(sat_ratio,bins=100)\n"
   ]
  },
  {
   "cell_type": "code",
   "execution_count": 11,
   "metadata": {},
   "outputs": [
    {
     "name": "stdout",
     "output_type": "stream",
     "text": [
      "[1.2673428e-05 3.8572364e-02 1.6264565e+00]\n",
      "0:\tlearn: 1.3079533\ttotal: 1.31s\tremaining: 10m 51s\n",
      "1:\tlearn: 1.2046066\ttotal: 1.9s\tremaining: 7m 52s\n",
      "2:\tlearn: 1.1116432\ttotal: 2.45s\tremaining: 6m 45s\n",
      "3:\tlearn: 1.0304447\ttotal: 2.97s\tremaining: 6m 7s\n",
      "4:\tlearn: 0.9576931\ttotal: 3.47s\tremaining: 5m 43s\n",
      "5:\tlearn: 0.8950065\ttotal: 3.98s\tremaining: 5m 27s\n",
      "6:\tlearn: 0.8382602\ttotal: 4.48s\tremaining: 5m 15s\n",
      "7:\tlearn: 0.7873509\ttotal: 4.97s\tremaining: 5m 5s\n",
      "8:\tlearn: 0.7430209\ttotal: 5.47s\tremaining: 4m 58s\n",
      "9:\tlearn: 0.7048513\ttotal: 5.96s\tremaining: 4m 52s\n",
      "10:\tlearn: 0.6722560\ttotal: 6.47s\tremaining: 4m 47s\n",
      "11:\tlearn: 0.6410373\ttotal: 6.97s\tremaining: 4m 43s\n",
      "12:\tlearn: 0.6143486\ttotal: 7.47s\tremaining: 4m 39s\n",
      "13:\tlearn: 0.5924311\ttotal: 7.97s\tremaining: 4m 36s\n",
      "14:\tlearn: 0.5725888\ttotal: 8.47s\tremaining: 4m 34s\n",
      "15:\tlearn: 0.5543124\ttotal: 8.98s\tremaining: 4m 31s\n",
      "16:\tlearn: 0.5397655\ttotal: 9.5s\tremaining: 4m 30s\n",
      "17:\tlearn: 0.5267834\ttotal: 10s\tremaining: 4m 28s\n",
      "18:\tlearn: 0.5155129\ttotal: 10.5s\tremaining: 4m 26s\n",
      "19:\tlearn: 0.5062764\ttotal: 11s\tremaining: 4m 24s\n",
      "20:\tlearn: 0.4972030\ttotal: 11.5s\tremaining: 4m 23s\n",
      "21:\tlearn: 0.4885792\ttotal: 12.1s\tremaining: 4m 22s\n",
      "22:\tlearn: 0.4821413\ttotal: 12.6s\tremaining: 4m 21s\n",
      "23:\tlearn: 0.4756876\ttotal: 13.1s\tremaining: 4m 19s\n",
      "24:\tlearn: 0.4708006\ttotal: 13.6s\tremaining: 4m 17s\n",
      "25:\tlearn: 0.4647832\ttotal: 14.1s\tremaining: 4m 16s\n",
      "26:\tlearn: 0.4601342\ttotal: 14.6s\tremaining: 4m 15s\n",
      "27:\tlearn: 0.4566257\ttotal: 15.1s\tremaining: 4m 13s\n",
      "28:\tlearn: 0.4534588\ttotal: 15.6s\tremaining: 4m 12s\n",
      "29:\tlearn: 0.4507516\ttotal: 16s\tremaining: 4m 11s\n",
      "30:\tlearn: 0.4466103\ttotal: 16.5s\tremaining: 4m 10s\n",
      "31:\tlearn: 0.4443645\ttotal: 17s\tremaining: 4m 9s\n",
      "32:\tlearn: 0.4412674\ttotal: 17.5s\tremaining: 4m 8s\n",
      "33:\tlearn: 0.4394591\ttotal: 18s\tremaining: 4m 7s\n",
      "34:\tlearn: 0.4356779\ttotal: 18.5s\tremaining: 4m 6s\n",
      "35:\tlearn: 0.4341101\ttotal: 19s\tremaining: 4m 5s\n",
      "36:\tlearn: 0.4325068\ttotal: 19.5s\tremaining: 4m 4s\n",
      "37:\tlearn: 0.4306620\ttotal: 20s\tremaining: 4m 3s\n",
      "38:\tlearn: 0.4282742\ttotal: 20.5s\tremaining: 4m 2s\n",
      "39:\tlearn: 0.4270041\ttotal: 21s\tremaining: 4m 1s\n",
      "40:\tlearn: 0.4240559\ttotal: 21.5s\tremaining: 4m\n",
      "41:\tlearn: 0.4219688\ttotal: 22s\tremaining: 3m 59s\n",
      "42:\tlearn: 0.4208969\ttotal: 22.5s\tremaining: 3m 58s\n",
      "43:\tlearn: 0.4187384\ttotal: 23s\tremaining: 3m 57s\n",
      "44:\tlearn: 0.4177951\ttotal: 23.4s\tremaining: 3m 56s\n",
      "45:\tlearn: 0.4168695\ttotal: 23.9s\tremaining: 3m 56s\n",
      "46:\tlearn: 0.4142793\ttotal: 24.4s\tremaining: 3m 55s\n",
      "47:\tlearn: 0.4132329\ttotal: 24.9s\tremaining: 3m 54s\n",
      "48:\tlearn: 0.4124329\ttotal: 25.4s\tremaining: 3m 53s\n",
      "49:\tlearn: 0.4113069\ttotal: 25.9s\tremaining: 3m 52s\n",
      "50:\tlearn: 0.4105346\ttotal: 26.4s\tremaining: 3m 52s\n",
      "51:\tlearn: 0.4084641\ttotal: 26.9s\tremaining: 3m 51s\n",
      "52:\tlearn: 0.4064687\ttotal: 27.4s\tremaining: 3m 50s\n",
      "53:\tlearn: 0.4051218\ttotal: 27.9s\tremaining: 3m 50s\n",
      "54:\tlearn: 0.4044353\ttotal: 28.4s\tremaining: 3m 49s\n",
      "55:\tlearn: 0.4032712\ttotal: 28.9s\tremaining: 3m 48s\n",
      "56:\tlearn: 0.4024920\ttotal: 29.3s\tremaining: 3m 48s\n",
      "57:\tlearn: 0.4017384\ttotal: 29.8s\tremaining: 3m 47s\n",
      "58:\tlearn: 0.4010956\ttotal: 30.3s\tremaining: 3m 46s\n",
      "59:\tlearn: 0.4000175\ttotal: 30.8s\tremaining: 3m 45s\n",
      "60:\tlearn: 0.3994308\ttotal: 31.3s\tremaining: 3m 45s\n",
      "61:\tlearn: 0.3989213\ttotal: 31.8s\tremaining: 3m 44s\n",
      "62:\tlearn: 0.3978755\ttotal: 32.3s\tremaining: 3m 44s\n",
      "63:\tlearn: 0.3971184\ttotal: 32.8s\tremaining: 3m 43s\n",
      "64:\tlearn: 0.3960700\ttotal: 33.3s\tremaining: 3m 42s\n",
      "65:\tlearn: 0.3954054\ttotal: 33.8s\tremaining: 3m 42s\n",
      "66:\tlearn: 0.3943365\ttotal: 34.3s\tremaining: 3m 41s\n",
      "67:\tlearn: 0.3937030\ttotal: 34.7s\tremaining: 3m 40s\n",
      "68:\tlearn: 0.3931850\ttotal: 35.2s\tremaining: 3m 40s\n",
      "69:\tlearn: 0.3922289\ttotal: 35.7s\tremaining: 3m 39s\n",
      "70:\tlearn: 0.3916791\ttotal: 36.2s\tremaining: 3m 38s\n",
      "71:\tlearn: 0.3912863\ttotal: 36.7s\tremaining: 3m 38s\n",
      "72:\tlearn: 0.3906228\ttotal: 37.2s\tremaining: 3m 37s\n",
      "73:\tlearn: 0.3902363\ttotal: 37.7s\tremaining: 3m 36s\n",
      "74:\tlearn: 0.3898924\ttotal: 38.2s\tremaining: 3m 36s\n",
      "75:\tlearn: 0.3892786\ttotal: 38.7s\tremaining: 3m 35s\n",
      "76:\tlearn: 0.3888888\ttotal: 39.2s\tremaining: 3m 35s\n",
      "77:\tlearn: 0.3882251\ttotal: 39.6s\tremaining: 3m 34s\n",
      "78:\tlearn: 0.3877277\ttotal: 40.1s\tremaining: 3m 33s\n",
      "79:\tlearn: 0.3871060\ttotal: 40.6s\tremaining: 3m 33s\n",
      "80:\tlearn: 0.3862632\ttotal: 41.1s\tremaining: 3m 32s\n",
      "81:\tlearn: 0.3858752\ttotal: 41.6s\tremaining: 3m 32s\n",
      "82:\tlearn: 0.3854407\ttotal: 42.1s\tremaining: 3m 31s\n",
      "83:\tlearn: 0.3846352\ttotal: 42.6s\tremaining: 3m 30s\n",
      "84:\tlearn: 0.3841339\ttotal: 43.1s\tremaining: 3m 30s\n",
      "85:\tlearn: 0.3830099\ttotal: 43.6s\tremaining: 3m 29s\n",
      "86:\tlearn: 0.3826887\ttotal: 44.1s\tremaining: 3m 29s\n",
      "87:\tlearn: 0.3819098\ttotal: 44.6s\tremaining: 3m 28s\n",
      "88:\tlearn: 0.3812031\ttotal: 45s\tremaining: 3m 28s\n",
      "89:\tlearn: 0.3808472\ttotal: 45.5s\tremaining: 3m 27s\n",
      "90:\tlearn: 0.3803116\ttotal: 46s\tremaining: 3m 26s\n",
      "91:\tlearn: 0.3798068\ttotal: 46.5s\tremaining: 3m 26s\n",
      "92:\tlearn: 0.3795925\ttotal: 47s\tremaining: 3m 25s\n",
      "93:\tlearn: 0.3787088\ttotal: 47.5s\tremaining: 3m 25s\n",
      "94:\tlearn: 0.3784923\ttotal: 48s\tremaining: 3m 24s\n",
      "95:\tlearn: 0.3777594\ttotal: 48.5s\tremaining: 3m 24s\n",
      "96:\tlearn: 0.3774617\ttotal: 49s\tremaining: 3m 23s\n",
      "97:\tlearn: 0.3770421\ttotal: 49.5s\tremaining: 3m 22s\n",
      "98:\tlearn: 0.3766579\ttotal: 50s\tremaining: 3m 22s\n",
      "99:\tlearn: 0.3764758\ttotal: 50.5s\tremaining: 3m 21s\n",
      "100:\tlearn: 0.3762832\ttotal: 50.9s\tremaining: 3m 21s\n",
      "101:\tlearn: 0.3757207\ttotal: 51.4s\tremaining: 3m 20s\n",
      "102:\tlearn: 0.3751731\ttotal: 51.9s\tremaining: 3m 20s\n",
      "103:\tlearn: 0.3749721\ttotal: 52.4s\tremaining: 3m 19s\n",
      "104:\tlearn: 0.3744660\ttotal: 52.9s\tremaining: 3m 18s\n",
      "105:\tlearn: 0.3740388\ttotal: 53.4s\tremaining: 3m 18s\n",
      "106:\tlearn: 0.3738679\ttotal: 53.9s\tremaining: 3m 17s\n",
      "107:\tlearn: 0.3735668\ttotal: 54.4s\tremaining: 3m 17s\n",
      "108:\tlearn: 0.3732321\ttotal: 54.8s\tremaining: 3m 16s\n",
      "109:\tlearn: 0.3728351\ttotal: 55.3s\tremaining: 3m 16s\n",
      "110:\tlearn: 0.3725748\ttotal: 55.8s\tremaining: 3m 15s\n",
      "111:\tlearn: 0.3721800\ttotal: 56.3s\tremaining: 3m 15s\n",
      "112:\tlearn: 0.3716573\ttotal: 56.8s\tremaining: 3m 14s\n",
      "113:\tlearn: 0.3712371\ttotal: 57.3s\tremaining: 3m 14s\n",
      "114:\tlearn: 0.3710895\ttotal: 57.8s\tremaining: 3m 13s\n",
      "115:\tlearn: 0.3707866\ttotal: 58.3s\tremaining: 3m 13s\n",
      "116:\tlearn: 0.3705728\ttotal: 58.8s\tremaining: 3m 12s\n",
      "117:\tlearn: 0.3700614\ttotal: 59.3s\tremaining: 3m 11s\n",
      "118:\tlearn: 0.3696649\ttotal: 59.8s\tremaining: 3m 11s\n",
      "119:\tlearn: 0.3695307\ttotal: 1m\tremaining: 3m 10s\n",
      "120:\tlearn: 0.3692608\ttotal: 1m\tremaining: 3m 10s\n",
      "121:\tlearn: 0.3691441\ttotal: 1m 1s\tremaining: 3m 9s\n",
      "122:\tlearn: 0.3684506\ttotal: 1m 1s\tremaining: 3m 9s\n",
      "123:\tlearn: 0.3682647\ttotal: 1m 2s\tremaining: 3m 8s\n",
      "124:\tlearn: 0.3677991\ttotal: 1m 2s\tremaining: 3m 8s\n",
      "125:\tlearn: 0.3675319\ttotal: 1m 3s\tremaining: 3m 7s\n",
      "126:\tlearn: 0.3671512\ttotal: 1m 3s\tremaining: 3m 7s\n",
      "127:\tlearn: 0.3667139\ttotal: 1m 4s\tremaining: 3m 6s\n",
      "128:\tlearn: 0.3661637\ttotal: 1m 4s\tremaining: 3m 6s\n",
      "129:\tlearn: 0.3658905\ttotal: 1m 5s\tremaining: 3m 5s\n",
      "130:\tlearn: 0.3655125\ttotal: 1m 5s\tremaining: 3m 5s\n",
      "131:\tlearn: 0.3650524\ttotal: 1m 6s\tremaining: 3m 4s\n",
      "132:\tlearn: 0.3647656\ttotal: 1m 6s\tremaining: 3m 3s\n",
      "133:\tlearn: 0.3645977\ttotal: 1m 7s\tremaining: 3m 3s\n",
      "134:\tlearn: 0.3642206\ttotal: 1m 7s\tremaining: 3m 2s\n",
      "135:\tlearn: 0.3640884\ttotal: 1m 8s\tremaining: 3m 2s\n",
      "136:\tlearn: 0.3639341\ttotal: 1m 8s\tremaining: 3m 1s\n",
      "137:\tlearn: 0.3635315\ttotal: 1m 9s\tremaining: 3m 1s\n",
      "138:\tlearn: 0.3633881\ttotal: 1m 9s\tremaining: 3m\n",
      "139:\tlearn: 0.3630410\ttotal: 1m 10s\tremaining: 3m\n",
      "140:\tlearn: 0.3627283\ttotal: 1m 10s\tremaining: 2m 59s\n",
      "141:\tlearn: 0.3624450\ttotal: 1m 11s\tremaining: 2m 59s\n",
      "142:\tlearn: 0.3620461\ttotal: 1m 11s\tremaining: 2m 58s\n",
      "143:\tlearn: 0.3618378\ttotal: 1m 12s\tremaining: 2m 58s\n",
      "144:\tlearn: 0.3616254\ttotal: 1m 12s\tremaining: 2m 57s\n",
      "145:\tlearn: 0.3613615\ttotal: 1m 13s\tremaining: 2m 57s\n",
      "146:\tlearn: 0.3612244\ttotal: 1m 13s\tremaining: 2m 56s\n",
      "147:\tlearn: 0.3609789\ttotal: 1m 14s\tremaining: 2m 56s\n",
      "148:\tlearn: 0.3608103\ttotal: 1m 14s\tremaining: 2m 55s\n",
      "149:\tlearn: 0.3604057\ttotal: 1m 15s\tremaining: 2m 55s\n",
      "150:\tlearn: 0.3601724\ttotal: 1m 15s\tremaining: 2m 54s\n",
      "151:\tlearn: 0.3595624\ttotal: 1m 15s\tremaining: 2m 53s\n",
      "152:\tlearn: 0.3592678\ttotal: 1m 16s\tremaining: 2m 53s\n",
      "153:\tlearn: 0.3589753\ttotal: 1m 16s\tremaining: 2m 52s\n",
      "154:\tlearn: 0.3588070\ttotal: 1m 17s\tremaining: 2m 52s\n",
      "155:\tlearn: 0.3586152\ttotal: 1m 17s\tremaining: 2m 51s\n",
      "156:\tlearn: 0.3584640\ttotal: 1m 18s\tremaining: 2m 51s\n",
      "157:\tlearn: 0.3582802\ttotal: 1m 18s\tremaining: 2m 50s\n",
      "158:\tlearn: 0.3579528\ttotal: 1m 19s\tremaining: 2m 50s\n",
      "159:\tlearn: 0.3577791\ttotal: 1m 19s\tremaining: 2m 49s\n",
      "160:\tlearn: 0.3572979\ttotal: 1m 20s\tremaining: 2m 49s\n",
      "161:\tlearn: 0.3571616\ttotal: 1m 20s\tremaining: 2m 48s\n",
      "162:\tlearn: 0.3570501\ttotal: 1m 21s\tremaining: 2m 48s\n",
      "163:\tlearn: 0.3566911\ttotal: 1m 21s\tremaining: 2m 47s\n",
      "164:\tlearn: 0.3564437\ttotal: 1m 22s\tremaining: 2m 47s\n",
      "165:\tlearn: 0.3561771\ttotal: 1m 22s\tremaining: 2m 46s\n",
      "166:\tlearn: 0.3559335\ttotal: 1m 23s\tremaining: 2m 46s\n",
      "167:\tlearn: 0.3557947\ttotal: 1m 23s\tremaining: 2m 45s\n",
      "168:\tlearn: 0.3553962\ttotal: 1m 24s\tremaining: 2m 45s\n",
      "169:\tlearn: 0.3549466\ttotal: 1m 24s\tremaining: 2m 44s\n",
      "170:\tlearn: 0.3546556\ttotal: 1m 25s\tremaining: 2m 44s\n",
      "171:\tlearn: 0.3543876\ttotal: 1m 25s\tremaining: 2m 43s\n",
      "172:\tlearn: 0.3542514\ttotal: 1m 26s\tremaining: 2m 43s\n",
      "173:\tlearn: 0.3541264\ttotal: 1m 26s\tremaining: 2m 42s\n",
      "174:\tlearn: 0.3538725\ttotal: 1m 27s\tremaining: 2m 42s\n",
      "175:\tlearn: 0.3537585\ttotal: 1m 27s\tremaining: 2m 41s\n",
      "176:\tlearn: 0.3535090\ttotal: 1m 28s\tremaining: 2m 41s\n",
      "177:\tlearn: 0.3532720\ttotal: 1m 28s\tremaining: 2m 40s\n",
      "178:\tlearn: 0.3528960\ttotal: 1m 29s\tremaining: 2m 40s\n",
      "179:\tlearn: 0.3527499\ttotal: 1m 29s\tremaining: 2m 39s\n",
      "180:\tlearn: 0.3525257\ttotal: 1m 30s\tremaining: 2m 38s\n",
      "181:\tlearn: 0.3524034\ttotal: 1m 30s\tremaining: 2m 38s\n",
      "182:\tlearn: 0.3521808\ttotal: 1m 31s\tremaining: 2m 37s\n",
      "183:\tlearn: 0.3520239\ttotal: 1m 31s\tremaining: 2m 37s\n",
      "184:\tlearn: 0.3519361\ttotal: 1m 32s\tremaining: 2m 36s\n",
      "185:\tlearn: 0.3517328\ttotal: 1m 32s\tremaining: 2m 36s\n",
      "186:\tlearn: 0.3515836\ttotal: 1m 33s\tremaining: 2m 35s\n",
      "187:\tlearn: 0.3514838\ttotal: 1m 33s\tremaining: 2m 35s\n",
      "188:\tlearn: 0.3512468\ttotal: 1m 34s\tremaining: 2m 34s\n",
      "189:\tlearn: 0.3509958\ttotal: 1m 34s\tremaining: 2m 34s\n",
      "190:\tlearn: 0.3508836\ttotal: 1m 35s\tremaining: 2m 33s\n",
      "191:\tlearn: 0.3508050\ttotal: 1m 35s\tremaining: 2m 33s\n",
      "192:\tlearn: 0.3506782\ttotal: 1m 36s\tremaining: 2m 32s\n",
      "193:\tlearn: 0.3506210\ttotal: 1m 36s\tremaining: 2m 32s\n",
      "194:\tlearn: 0.3504723\ttotal: 1m 37s\tremaining: 2m 31s\n",
      "195:\tlearn: 0.3502201\ttotal: 1m 37s\tremaining: 2m 31s\n",
      "196:\tlearn: 0.3498218\ttotal: 1m 38s\tremaining: 2m 30s\n",
      "197:\tlearn: 0.3496007\ttotal: 1m 38s\tremaining: 2m 30s\n",
      "198:\tlearn: 0.3493389\ttotal: 1m 39s\tremaining: 2m 29s\n",
      "199:\tlearn: 0.3491828\ttotal: 1m 39s\tremaining: 2m 29s\n",
      "200:\tlearn: 0.3489730\ttotal: 1m 40s\tremaining: 2m 28s\n",
      "201:\tlearn: 0.3487679\ttotal: 1m 40s\tremaining: 2m 28s\n",
      "202:\tlearn: 0.3486502\ttotal: 1m 41s\tremaining: 2m 27s\n",
      "203:\tlearn: 0.3484988\ttotal: 1m 41s\tremaining: 2m 27s\n",
      "204:\tlearn: 0.3484128\ttotal: 1m 42s\tremaining: 2m 26s\n",
      "205:\tlearn: 0.3481971\ttotal: 1m 42s\tremaining: 2m 26s\n",
      "206:\tlearn: 0.3478493\ttotal: 1m 42s\tremaining: 2m 25s\n",
      "207:\tlearn: 0.3476237\ttotal: 1m 43s\tremaining: 2m 25s\n",
      "208:\tlearn: 0.3474629\ttotal: 1m 43s\tremaining: 2m 24s\n",
      "209:\tlearn: 0.3473516\ttotal: 1m 44s\tremaining: 2m 24s\n",
      "210:\tlearn: 0.3471477\ttotal: 1m 44s\tremaining: 2m 23s\n",
      "211:\tlearn: 0.3470470\ttotal: 1m 45s\tremaining: 2m 23s\n",
      "212:\tlearn: 0.3467676\ttotal: 1m 45s\tremaining: 2m 22s\n",
      "213:\tlearn: 0.3466029\ttotal: 1m 46s\tremaining: 2m 22s\n",
      "214:\tlearn: 0.3463194\ttotal: 1m 46s\tremaining: 2m 21s\n",
      "215:\tlearn: 0.3461129\ttotal: 1m 47s\tremaining: 2m 21s\n",
      "216:\tlearn: 0.3459866\ttotal: 1m 47s\tremaining: 2m 20s\n",
      "217:\tlearn: 0.3457821\ttotal: 1m 48s\tremaining: 2m 20s\n",
      "218:\tlearn: 0.3456977\ttotal: 1m 48s\tremaining: 2m 19s\n",
      "219:\tlearn: 0.3452601\ttotal: 1m 49s\tremaining: 2m 19s\n",
      "220:\tlearn: 0.3450871\ttotal: 1m 49s\tremaining: 2m 18s\n",
      "221:\tlearn: 0.3448733\ttotal: 1m 50s\tremaining: 2m 18s\n",
      "222:\tlearn: 0.3447445\ttotal: 1m 50s\tremaining: 2m 17s\n",
      "223:\tlearn: 0.3446846\ttotal: 1m 51s\tremaining: 2m 17s\n",
      "224:\tlearn: 0.3442844\ttotal: 1m 51s\tremaining: 2m 16s\n",
      "225:\tlearn: 0.3441871\ttotal: 1m 52s\tremaining: 2m 16s\n",
      "226:\tlearn: 0.3441143\ttotal: 1m 52s\tremaining: 2m 15s\n",
      "227:\tlearn: 0.3439803\ttotal: 1m 53s\tremaining: 2m 15s\n",
      "228:\tlearn: 0.3438518\ttotal: 1m 53s\tremaining: 2m 14s\n",
      "229:\tlearn: 0.3437368\ttotal: 1m 54s\tremaining: 2m 14s\n",
      "230:\tlearn: 0.3436125\ttotal: 1m 54s\tremaining: 2m 13s\n",
      "231:\tlearn: 0.3434935\ttotal: 1m 55s\tremaining: 2m 13s\n",
      "232:\tlearn: 0.3433464\ttotal: 1m 55s\tremaining: 2m 12s\n",
      "233:\tlearn: 0.3431335\ttotal: 1m 56s\tremaining: 2m 12s\n",
      "234:\tlearn: 0.3429001\ttotal: 1m 56s\tremaining: 2m 11s\n",
      "235:\tlearn: 0.3426817\ttotal: 1m 57s\tremaining: 2m 11s\n",
      "236:\tlearn: 0.3425725\ttotal: 1m 57s\tremaining: 2m 10s\n",
      "237:\tlearn: 0.3424657\ttotal: 1m 58s\tremaining: 2m 10s\n",
      "238:\tlearn: 0.3422880\ttotal: 1m 58s\tremaining: 2m 9s\n",
      "239:\tlearn: 0.3421754\ttotal: 1m 59s\tremaining: 2m 9s\n",
      "240:\tlearn: 0.3419329\ttotal: 1m 59s\tremaining: 2m 8s\n",
      "241:\tlearn: 0.3416428\ttotal: 2m\tremaining: 2m 8s\n",
      "242:\tlearn: 0.3415566\ttotal: 2m\tremaining: 2m 7s\n",
      "243:\tlearn: 0.3414755\ttotal: 2m 1s\tremaining: 2m 7s\n",
      "244:\tlearn: 0.3414179\ttotal: 2m 1s\tremaining: 2m 6s\n",
      "245:\tlearn: 0.3411608\ttotal: 2m 2s\tremaining: 2m 6s\n",
      "246:\tlearn: 0.3409247\ttotal: 2m 2s\tremaining: 2m 5s\n",
      "247:\tlearn: 0.3408499\ttotal: 2m 3s\tremaining: 2m 5s\n",
      "248:\tlearn: 0.3406324\ttotal: 2m 3s\tremaining: 2m 4s\n",
      "249:\tlearn: 0.3403374\ttotal: 2m 4s\tremaining: 2m 4s\n",
      "250:\tlearn: 0.3401794\ttotal: 2m 4s\tremaining: 2m 3s\n",
      "251:\tlearn: 0.3400187\ttotal: 2m 5s\tremaining: 2m 3s\n",
      "252:\tlearn: 0.3398290\ttotal: 2m 5s\tremaining: 2m 2s\n",
      "253:\tlearn: 0.3397548\ttotal: 2m 6s\tremaining: 2m 2s\n",
      "254:\tlearn: 0.3396314\ttotal: 2m 6s\tremaining: 2m 1s\n",
      "255:\tlearn: 0.3395312\ttotal: 2m 7s\tremaining: 2m 1s\n",
      "256:\tlearn: 0.3394408\ttotal: 2m 7s\tremaining: 2m\n",
      "257:\tlearn: 0.3393796\ttotal: 2m 8s\tremaining: 2m\n",
      "258:\tlearn: 0.3393270\ttotal: 2m 8s\tremaining: 1m 59s\n",
      "259:\tlearn: 0.3392366\ttotal: 2m 9s\tremaining: 1m 59s\n",
      "260:\tlearn: 0.3391492\ttotal: 2m 9s\tremaining: 1m 58s\n",
      "261:\tlearn: 0.3388940\ttotal: 2m 10s\tremaining: 1m 58s\n",
      "262:\tlearn: 0.3388324\ttotal: 2m 10s\tremaining: 1m 57s\n",
      "263:\tlearn: 0.3387224\ttotal: 2m 11s\tremaining: 1m 57s\n",
      "264:\tlearn: 0.3384477\ttotal: 2m 11s\tremaining: 1m 56s\n",
      "265:\tlearn: 0.3383128\ttotal: 2m 12s\tremaining: 1m 56s\n",
      "266:\tlearn: 0.3382286\ttotal: 2m 12s\tremaining: 1m 55s\n",
      "267:\tlearn: 0.3381802\ttotal: 2m 12s\tremaining: 1m 55s\n",
      "268:\tlearn: 0.3381301\ttotal: 2m 13s\tremaining: 1m 54s\n",
      "269:\tlearn: 0.3379880\ttotal: 2m 13s\tremaining: 1m 54s\n",
      "270:\tlearn: 0.3378172\ttotal: 2m 14s\tremaining: 1m 53s\n",
      "271:\tlearn: 0.3377414\ttotal: 2m 14s\tremaining: 1m 53s\n",
      "272:\tlearn: 0.3373466\ttotal: 2m 15s\tremaining: 1m 52s\n",
      "273:\tlearn: 0.3372230\ttotal: 2m 15s\tremaining: 1m 52s\n",
      "274:\tlearn: 0.3369862\ttotal: 2m 16s\tremaining: 1m 51s\n",
      "275:\tlearn: 0.3368931\ttotal: 2m 16s\tremaining: 1m 51s\n",
      "276:\tlearn: 0.3368287\ttotal: 2m 17s\tremaining: 1m 50s\n",
      "277:\tlearn: 0.3366841\ttotal: 2m 17s\tremaining: 1m 50s\n",
      "278:\tlearn: 0.3364872\ttotal: 2m 18s\tremaining: 1m 49s\n",
      "279:\tlearn: 0.3363901\ttotal: 2m 18s\tremaining: 1m 49s\n",
      "280:\tlearn: 0.3363621\ttotal: 2m 19s\tremaining: 1m 48s\n",
      "281:\tlearn: 0.3362277\ttotal: 2m 19s\tremaining: 1m 48s\n",
      "282:\tlearn: 0.3359643\ttotal: 2m 20s\tremaining: 1m 47s\n",
      "283:\tlearn: 0.3358837\ttotal: 2m 20s\tremaining: 1m 47s\n",
      "284:\tlearn: 0.3357687\ttotal: 2m 21s\tremaining: 1m 46s\n",
      "285:\tlearn: 0.3356203\ttotal: 2m 21s\tremaining: 1m 46s\n",
      "286:\tlearn: 0.3355044\ttotal: 2m 22s\tremaining: 1m 45s\n",
      "287:\tlearn: 0.3353169\ttotal: 2m 22s\tremaining: 1m 45s\n",
      "288:\tlearn: 0.3350709\ttotal: 2m 23s\tremaining: 1m 44s\n",
      "289:\tlearn: 0.3349168\ttotal: 2m 23s\tremaining: 1m 44s\n",
      "290:\tlearn: 0.3346471\ttotal: 2m 24s\tremaining: 1m 43s\n",
      "291:\tlearn: 0.3345367\ttotal: 2m 24s\tremaining: 1m 43s\n",
      "292:\tlearn: 0.3344113\ttotal: 2m 25s\tremaining: 1m 42s\n",
      "293:\tlearn: 0.3342304\ttotal: 2m 25s\tremaining: 1m 42s\n",
      "294:\tlearn: 0.3340893\ttotal: 2m 26s\tremaining: 1m 41s\n",
      "295:\tlearn: 0.3339392\ttotal: 2m 26s\tremaining: 1m 41s\n",
      "296:\tlearn: 0.3338547\ttotal: 2m 27s\tremaining: 1m 40s\n",
      "297:\tlearn: 0.3337603\ttotal: 2m 27s\tremaining: 1m 40s\n",
      "298:\tlearn: 0.3337266\ttotal: 2m 28s\tremaining: 1m 39s\n",
      "299:\tlearn: 0.3336359\ttotal: 2m 28s\tremaining: 1m 39s\n",
      "300:\tlearn: 0.3335362\ttotal: 2m 29s\tremaining: 1m 38s\n",
      "301:\tlearn: 0.3333692\ttotal: 2m 29s\tremaining: 1m 38s\n",
      "302:\tlearn: 0.3332652\ttotal: 2m 30s\tremaining: 1m 37s\n",
      "303:\tlearn: 0.3331265\ttotal: 2m 30s\tremaining: 1m 37s\n",
      "304:\tlearn: 0.3328879\ttotal: 2m 31s\tremaining: 1m 36s\n",
      "305:\tlearn: 0.3328262\ttotal: 2m 31s\tremaining: 1m 36s\n",
      "306:\tlearn: 0.3327790\ttotal: 2m 32s\tremaining: 1m 35s\n",
      "307:\tlearn: 0.3327123\ttotal: 2m 32s\tremaining: 1m 35s\n",
      "308:\tlearn: 0.3325319\ttotal: 2m 33s\tremaining: 1m 34s\n",
      "309:\tlearn: 0.3324743\ttotal: 2m 33s\tremaining: 1m 34s\n",
      "310:\tlearn: 0.3323367\ttotal: 2m 34s\tremaining: 1m 33s\n",
      "311:\tlearn: 0.3321523\ttotal: 2m 34s\tremaining: 1m 33s\n",
      "312:\tlearn: 0.3320900\ttotal: 2m 35s\tremaining: 1m 32s\n",
      "313:\tlearn: 0.3318938\ttotal: 2m 35s\tremaining: 1m 32s\n",
      "314:\tlearn: 0.3316548\ttotal: 2m 36s\tremaining: 1m 31s\n",
      "315:\tlearn: 0.3314827\ttotal: 2m 36s\tremaining: 1m 31s\n",
      "316:\tlearn: 0.3313676\ttotal: 2m 37s\tremaining: 1m 30s\n",
      "317:\tlearn: 0.3313083\ttotal: 2m 37s\tremaining: 1m 30s\n",
      "318:\tlearn: 0.3311309\ttotal: 2m 38s\tremaining: 1m 29s\n",
      "319:\tlearn: 0.3310995\ttotal: 2m 38s\tremaining: 1m 29s\n",
      "320:\tlearn: 0.3310121\ttotal: 2m 39s\tremaining: 1m 28s\n",
      "321:\tlearn: 0.3308886\ttotal: 2m 39s\tremaining: 1m 28s\n",
      "322:\tlearn: 0.3306866\ttotal: 2m 40s\tremaining: 1m 27s\n",
      "323:\tlearn: 0.3305801\ttotal: 2m 40s\tremaining: 1m 27s\n",
      "324:\tlearn: 0.3302836\ttotal: 2m 41s\tremaining: 1m 26s\n",
      "325:\tlearn: 0.3301819\ttotal: 2m 41s\tremaining: 1m 26s\n",
      "326:\tlearn: 0.3299516\ttotal: 2m 42s\tremaining: 1m 25s\n",
      "327:\tlearn: 0.3299194\ttotal: 2m 42s\tremaining: 1m 25s\n",
      "328:\tlearn: 0.3298765\ttotal: 2m 43s\tremaining: 1m 24s\n",
      "329:\tlearn: 0.3297465\ttotal: 2m 43s\tremaining: 1m 24s\n",
      "330:\tlearn: 0.3296544\ttotal: 2m 44s\tremaining: 1m 23s\n",
      "331:\tlearn: 0.3295180\ttotal: 2m 44s\tremaining: 1m 23s\n",
      "332:\tlearn: 0.3294554\ttotal: 2m 45s\tremaining: 1m 22s\n",
      "333:\tlearn: 0.3292945\ttotal: 2m 45s\tremaining: 1m 22s\n",
      "334:\tlearn: 0.3292119\ttotal: 2m 46s\tremaining: 1m 21s\n",
      "335:\tlearn: 0.3290364\ttotal: 2m 46s\tremaining: 1m 21s\n",
      "336:\tlearn: 0.3289940\ttotal: 2m 47s\tremaining: 1m 20s\n",
      "337:\tlearn: 0.3289481\ttotal: 2m 47s\tremaining: 1m 20s\n",
      "338:\tlearn: 0.3288509\ttotal: 2m 47s\tremaining: 1m 19s\n",
      "339:\tlearn: 0.3287216\ttotal: 2m 48s\tremaining: 1m 19s\n",
      "340:\tlearn: 0.3286082\ttotal: 2m 48s\tremaining: 1m 18s\n",
      "341:\tlearn: 0.3285549\ttotal: 2m 49s\tremaining: 1m 18s\n",
      "342:\tlearn: 0.3283765\ttotal: 2m 49s\tremaining: 1m 17s\n",
      "343:\tlearn: 0.3282203\ttotal: 2m 50s\tremaining: 1m 17s\n",
      "344:\tlearn: 0.3281187\ttotal: 2m 50s\tremaining: 1m 16s\n",
      "345:\tlearn: 0.3279923\ttotal: 2m 51s\tremaining: 1m 16s\n",
      "346:\tlearn: 0.3279062\ttotal: 2m 51s\tremaining: 1m 15s\n",
      "347:\tlearn: 0.3277673\ttotal: 2m 52s\tremaining: 1m 15s\n",
      "348:\tlearn: 0.3277049\ttotal: 2m 52s\tremaining: 1m 14s\n",
      "349:\tlearn: 0.3275062\ttotal: 2m 53s\tremaining: 1m 14s\n",
      "350:\tlearn: 0.3274116\ttotal: 2m 53s\tremaining: 1m 13s\n",
      "351:\tlearn: 0.3273130\ttotal: 2m 54s\tremaining: 1m 13s\n",
      "352:\tlearn: 0.3271842\ttotal: 2m 54s\tremaining: 1m 12s\n",
      "353:\tlearn: 0.3271014\ttotal: 2m 55s\tremaining: 1m 12s\n",
      "354:\tlearn: 0.3270757\ttotal: 2m 55s\tremaining: 1m 11s\n",
      "355:\tlearn: 0.3270292\ttotal: 2m 56s\tremaining: 1m 11s\n",
      "356:\tlearn: 0.3269882\ttotal: 2m 56s\tremaining: 1m 10s\n",
      "357:\tlearn: 0.3268193\ttotal: 2m 57s\tremaining: 1m 10s\n",
      "358:\tlearn: 0.3266956\ttotal: 2m 57s\tremaining: 1m 9s\n",
      "359:\tlearn: 0.3266322\ttotal: 2m 58s\tremaining: 1m 9s\n",
      "360:\tlearn: 0.3265657\ttotal: 2m 58s\tremaining: 1m 8s\n",
      "361:\tlearn: 0.3264615\ttotal: 2m 59s\tremaining: 1m 8s\n",
      "362:\tlearn: 0.3264013\ttotal: 2m 59s\tremaining: 1m 7s\n",
      "363:\tlearn: 0.3263158\ttotal: 3m\tremaining: 1m 7s\n",
      "364:\tlearn: 0.3262566\ttotal: 3m 1s\tremaining: 1m 7s\n",
      "365:\tlearn: 0.3260799\ttotal: 3m 2s\tremaining: 1m 6s\n",
      "366:\tlearn: 0.3259250\ttotal: 3m 2s\tremaining: 1m 6s\n",
      "367:\tlearn: 0.3258427\ttotal: 3m 3s\tremaining: 1m 5s\n",
      "368:\tlearn: 0.3258045\ttotal: 3m 3s\tremaining: 1m 5s\n",
      "369:\tlearn: 0.3255625\ttotal: 3m 4s\tremaining: 1m 4s\n",
      "370:\tlearn: 0.3254886\ttotal: 3m 4s\tremaining: 1m 4s\n",
      "371:\tlearn: 0.3253828\ttotal: 3m 5s\tremaining: 1m 3s\n",
      "372:\tlearn: 0.3252273\ttotal: 3m 5s\tremaining: 1m 3s\n",
      "373:\tlearn: 0.3251815\ttotal: 3m 5s\tremaining: 1m 2s\n",
      "374:\tlearn: 0.3249485\ttotal: 3m 6s\tremaining: 1m 2s\n",
      "375:\tlearn: 0.3248134\ttotal: 3m 6s\tremaining: 1m 1s\n",
      "376:\tlearn: 0.3247314\ttotal: 3m 7s\tremaining: 1m 1s\n",
      "377:\tlearn: 0.3247009\ttotal: 3m 7s\tremaining: 1m\n",
      "378:\tlearn: 0.3246542\ttotal: 3m 8s\tremaining: 1m\n",
      "379:\tlearn: 0.3245511\ttotal: 3m 8s\tremaining: 59.7s\n",
      "380:\tlearn: 0.3244531\ttotal: 3m 9s\tremaining: 59.2s\n",
      "381:\tlearn: 0.3244032\ttotal: 3m 10s\tremaining: 58.7s\n",
      "382:\tlearn: 0.3243086\ttotal: 3m 10s\tremaining: 58.2s\n",
      "383:\tlearn: 0.3242353\ttotal: 3m 11s\tremaining: 57.7s\n",
      "384:\tlearn: 0.3241397\ttotal: 3m 11s\tremaining: 57.2s\n",
      "385:\tlearn: 0.3240455\ttotal: 3m 12s\tremaining: 56.7s\n",
      "386:\tlearn: 0.3237848\ttotal: 3m 12s\tremaining: 56.2s\n",
      "387:\tlearn: 0.3236646\ttotal: 3m 13s\tremaining: 55.7s\n",
      "388:\tlearn: 0.3235565\ttotal: 3m 13s\tremaining: 55.3s\n",
      "389:\tlearn: 0.3234786\ttotal: 3m 14s\tremaining: 54.8s\n",
      "390:\tlearn: 0.3233887\ttotal: 3m 14s\tremaining: 54.3s\n",
      "391:\tlearn: 0.3233283\ttotal: 3m 15s\tremaining: 53.8s\n",
      "392:\tlearn: 0.3232662\ttotal: 3m 15s\tremaining: 53.3s\n",
      "393:\tlearn: 0.3231235\ttotal: 3m 16s\tremaining: 52.8s\n",
      "394:\tlearn: 0.3229743\ttotal: 3m 16s\tremaining: 52.3s\n",
      "395:\tlearn: 0.3228722\ttotal: 3m 17s\tremaining: 51.8s\n",
      "396:\tlearn: 0.3227792\ttotal: 3m 17s\tremaining: 51.3s\n",
      "397:\tlearn: 0.3227469\ttotal: 3m 18s\tremaining: 50.9s\n",
      "398:\tlearn: 0.3226550\ttotal: 3m 18s\tremaining: 50.4s\n",
      "399:\tlearn: 0.3225619\ttotal: 3m 19s\tremaining: 49.9s\n",
      "400:\tlearn: 0.3225119\ttotal: 3m 19s\tremaining: 49.4s\n",
      "401:\tlearn: 0.3224431\ttotal: 3m 20s\tremaining: 48.9s\n",
      "402:\tlearn: 0.3223853\ttotal: 3m 20s\tremaining: 48.4s\n",
      "403:\tlearn: 0.3221714\ttotal: 3m 21s\tremaining: 47.9s\n",
      "404:\tlearn: 0.3221470\ttotal: 3m 21s\tremaining: 47.4s\n",
      "405:\tlearn: 0.3220913\ttotal: 3m 22s\tremaining: 46.9s\n",
      "406:\tlearn: 0.3219222\ttotal: 3m 22s\tremaining: 46.4s\n",
      "407:\tlearn: 0.3218425\ttotal: 3m 23s\tremaining: 45.9s\n",
      "408:\tlearn: 0.3217560\ttotal: 3m 23s\tremaining: 45.4s\n",
      "409:\tlearn: 0.3216532\ttotal: 3m 24s\tremaining: 44.9s\n",
      "410:\tlearn: 0.3215578\ttotal: 3m 24s\tremaining: 44.4s\n",
      "411:\tlearn: 0.3214213\ttotal: 3m 25s\tremaining: 43.9s\n",
      "412:\tlearn: 0.3212688\ttotal: 3m 26s\tremaining: 43.4s\n",
      "413:\tlearn: 0.3211986\ttotal: 3m 26s\tremaining: 42.9s\n",
      "414:\tlearn: 0.3211592\ttotal: 3m 27s\tremaining: 42.4s\n",
      "415:\tlearn: 0.3209184\ttotal: 3m 27s\tremaining: 41.9s\n",
      "416:\tlearn: 0.3208540\ttotal: 3m 28s\tremaining: 41.4s\n",
      "417:\tlearn: 0.3206577\ttotal: 3m 28s\tremaining: 40.9s\n",
      "418:\tlearn: 0.3205265\ttotal: 3m 29s\tremaining: 40.4s\n",
      "419:\tlearn: 0.3204395\ttotal: 3m 29s\tremaining: 39.9s\n",
      "420:\tlearn: 0.3202636\ttotal: 3m 30s\tremaining: 39.4s\n",
      "421:\tlearn: 0.3202443\ttotal: 3m 30s\tremaining: 38.9s\n",
      "422:\tlearn: 0.3201587\ttotal: 3m 31s\tremaining: 38.4s\n",
      "423:\tlearn: 0.3200959\ttotal: 3m 31s\tremaining: 37.9s\n",
      "424:\tlearn: 0.3200446\ttotal: 3m 32s\tremaining: 37.4s\n",
      "425:\tlearn: 0.3200222\ttotal: 3m 32s\tremaining: 36.9s\n",
      "426:\tlearn: 0.3199019\ttotal: 3m 33s\tremaining: 36.5s\n",
      "427:\tlearn: 0.3198391\ttotal: 3m 33s\tremaining: 36s\n",
      "428:\tlearn: 0.3197940\ttotal: 3m 34s\tremaining: 35.5s\n",
      "429:\tlearn: 0.3197574\ttotal: 3m 34s\tremaining: 35s\n",
      "430:\tlearn: 0.3195674\ttotal: 3m 35s\tremaining: 34.5s\n",
      "431:\tlearn: 0.3195006\ttotal: 3m 35s\tremaining: 34s\n",
      "432:\tlearn: 0.3194374\ttotal: 3m 36s\tremaining: 33.5s\n",
      "433:\tlearn: 0.3193044\ttotal: 3m 36s\tremaining: 33s\n",
      "434:\tlearn: 0.3191634\ttotal: 3m 37s\tremaining: 32.5s\n",
      "435:\tlearn: 0.3191091\ttotal: 3m 37s\tremaining: 32s\n",
      "436:\tlearn: 0.3190280\ttotal: 3m 38s\tremaining: 31.5s\n",
      "437:\tlearn: 0.3189411\ttotal: 3m 38s\tremaining: 31s\n",
      "438:\tlearn: 0.3188715\ttotal: 3m 39s\tremaining: 30.5s\n",
      "439:\tlearn: 0.3187544\ttotal: 3m 39s\tremaining: 30s\n",
      "440:\tlearn: 0.3185721\ttotal: 3m 40s\tremaining: 29.5s\n",
      "441:\tlearn: 0.3185159\ttotal: 3m 40s\tremaining: 29s\n",
      "442:\tlearn: 0.3184640\ttotal: 3m 41s\tremaining: 28.5s\n",
      "443:\tlearn: 0.3184251\ttotal: 3m 41s\tremaining: 28s\n",
      "444:\tlearn: 0.3183897\ttotal: 3m 42s\tremaining: 27.5s\n",
      "445:\tlearn: 0.3183356\ttotal: 3m 42s\tremaining: 27s\n",
      "446:\tlearn: 0.3181872\ttotal: 3m 43s\tremaining: 26.5s\n",
      "447:\tlearn: 0.3181546\ttotal: 3m 44s\tremaining: 26s\n",
      "448:\tlearn: 0.3180569\ttotal: 3m 44s\tremaining: 25.5s\n",
      "449:\tlearn: 0.3180011\ttotal: 3m 45s\tremaining: 25s\n",
      "450:\tlearn: 0.3179253\ttotal: 3m 45s\tremaining: 24.5s\n",
      "451:\tlearn: 0.3177803\ttotal: 3m 46s\tremaining: 24s\n",
      "452:\tlearn: 0.3177005\ttotal: 3m 46s\tremaining: 23.5s\n",
      "453:\tlearn: 0.3176574\ttotal: 3m 47s\tremaining: 23s\n",
      "454:\tlearn: 0.3176107\ttotal: 3m 47s\tremaining: 22.5s\n",
      "455:\tlearn: 0.3175833\ttotal: 3m 48s\tremaining: 22s\n",
      "456:\tlearn: 0.3175202\ttotal: 3m 48s\tremaining: 21.5s\n",
      "457:\tlearn: 0.3174336\ttotal: 3m 49s\tremaining: 21s\n",
      "458:\tlearn: 0.3172402\ttotal: 3m 49s\tremaining: 20.5s\n",
      "459:\tlearn: 0.3171548\ttotal: 3m 50s\tremaining: 20s\n",
      "460:\tlearn: 0.3170629\ttotal: 3m 50s\tremaining: 19.5s\n",
      "461:\tlearn: 0.3170065\ttotal: 3m 51s\tremaining: 19s\n",
      "462:\tlearn: 0.3168994\ttotal: 3m 51s\tremaining: 18.5s\n",
      "463:\tlearn: 0.3168114\ttotal: 3m 52s\tremaining: 18s\n",
      "464:\tlearn: 0.3167373\ttotal: 3m 52s\tremaining: 17.5s\n",
      "465:\tlearn: 0.3166031\ttotal: 3m 53s\tremaining: 17s\n",
      "466:\tlearn: 0.3165109\ttotal: 3m 53s\tremaining: 16.5s\n",
      "467:\tlearn: 0.3163925\ttotal: 3m 54s\tremaining: 16s\n",
      "468:\tlearn: 0.3163020\ttotal: 3m 55s\tremaining: 15.5s\n",
      "469:\tlearn: 0.3161979\ttotal: 3m 55s\tremaining: 15s\n",
      "470:\tlearn: 0.3161622\ttotal: 3m 56s\tremaining: 14.5s\n",
      "471:\tlearn: 0.3160873\ttotal: 3m 56s\tremaining: 14s\n",
      "472:\tlearn: 0.3160244\ttotal: 3m 57s\tremaining: 13.5s\n",
      "473:\tlearn: 0.3159849\ttotal: 3m 57s\tremaining: 13s\n",
      "474:\tlearn: 0.3159483\ttotal: 3m 58s\tremaining: 12.5s\n",
      "475:\tlearn: 0.3158872\ttotal: 3m 58s\tremaining: 12s\n",
      "476:\tlearn: 0.3158015\ttotal: 3m 59s\tremaining: 11.5s\n",
      "477:\tlearn: 0.3157117\ttotal: 3m 59s\tremaining: 11s\n",
      "478:\tlearn: 0.3156617\ttotal: 4m\tremaining: 10.5s\n",
      "479:\tlearn: 0.3156368\ttotal: 4m\tremaining: 10s\n",
      "480:\tlearn: 0.3155882\ttotal: 4m 1s\tremaining: 9.53s\n",
      "481:\tlearn: 0.3153727\ttotal: 4m 1s\tremaining: 9.03s\n",
      "482:\tlearn: 0.3152524\ttotal: 4m 2s\tremaining: 8.53s\n",
      "483:\tlearn: 0.3151484\ttotal: 4m 2s\tremaining: 8.03s\n",
      "484:\tlearn: 0.3150567\ttotal: 4m 3s\tremaining: 7.53s\n",
      "485:\tlearn: 0.3149567\ttotal: 4m 3s\tremaining: 7.03s\n",
      "486:\tlearn: 0.3149171\ttotal: 4m 4s\tremaining: 6.53s\n",
      "487:\tlearn: 0.3148430\ttotal: 4m 4s\tremaining: 6.02s\n",
      "488:\tlearn: 0.3148071\ttotal: 4m 5s\tremaining: 5.52s\n",
      "489:\tlearn: 0.3145531\ttotal: 4m 6s\tremaining: 5.02s\n",
      "490:\tlearn: 0.3145034\ttotal: 4m 6s\tremaining: 4.52s\n",
      "491:\tlearn: 0.3144123\ttotal: 4m 7s\tremaining: 4.02s\n",
      "492:\tlearn: 0.3142505\ttotal: 4m 7s\tremaining: 3.52s\n",
      "493:\tlearn: 0.3141506\ttotal: 4m 8s\tremaining: 3.01s\n",
      "494:\tlearn: 0.3141130\ttotal: 4m 8s\tremaining: 2.51s\n",
      "495:\tlearn: 0.3139913\ttotal: 4m 9s\tremaining: 2.01s\n",
      "496:\tlearn: 0.3139118\ttotal: 4m 9s\tremaining: 1.51s\n",
      "497:\tlearn: 0.3138963\ttotal: 4m 10s\tremaining: 1s\n",
      "498:\tlearn: 0.3138249\ttotal: 4m 10s\tremaining: 502ms\n",
      "499:\tlearn: 0.3137654\ttotal: 4m 11s\tremaining: 0us\n"
     ]
    },
    {
     "data": {
      "text/plain": [
       "<catboost.core.CatBoostRegressor at 0x10630b5e0>"
      ]
     },
     "execution_count": 11,
     "metadata": {},
     "output_type": "execute_result"
    }
   ],
   "source": [
    "from catboost import CatBoostRegressor\n",
    "cat_model2 = CatBoostRegressor(iterations=500,\n",
    "                          learning_rate=0.1,\n",
    "                          loss_function= 'MultiRMSE', \n",
    "                          eval_metric='MultiRMSE', \n",
    "                          depth=10)\n",
    "print(ym_train.std(axis=0))\n",
    "ym_std=ym_train.std(axis=0)\n",
    "ym_train_scaled=ym_train.copy()/ym_std\n",
    "cat_model2.fit(x_train,ym_train_scaled[:,0:2],verbose=True)"
   ]
  },
  {
   "cell_type": "code",
   "execution_count": 12,
   "metadata": {},
   "outputs": [],
   "source": [
    "cat_model2.save_model('cat_model2.json',format='json')\n",
    "import pickle\n",
    "pickle.dump({\"ym_std\":ym_std},open('ym_std.pkl','wb'))"
   ]
  },
  {
   "cell_type": "code",
   "execution_count": 13,
   "metadata": {},
   "outputs": [
    {
     "data": {
      "text/plain": [
       "<matplotlib.colorbar.Colorbar at 0x17a871430>"
      ]
     },
     "execution_count": 13,
     "metadata": {},
     "output_type": "execute_result"
    },
    {
     "data": {
      "image/png": "[encoded data removed]",
      "text/plain": [
       "<Figure size 640x480 with 2 Axes>"
      ]
     },
     "metadata": {},
     "output_type": "display_data"
    }
   ],
   "source": [
    "cfluxTb.max()\n",
    "\n",
    "import matplotlib\n",
    "plt.pcolormesh(fluxTb.T,cmap='jet',norm=matplotlib.colors.LogNorm(vmin=1e-7,vmax=1e-3))\n",
    "plt.colorbar()"
   ]
  },
  {
   "cell_type": "code",
   "execution_count": 14,
   "metadata": {},
   "outputs": [],
   "source": [
    "a0=[[],[]]\n",
    "x=[]\n",
    "y=[]\n",
    "for i in range(120):\n",
    "    for j in range(210):\n",
    "        if cfluxTb[i,j]>0:\n",
    "            x.append([i,j])\n",
    "            y.append(fluxTb[i,j])\n",
    "        else:\n",
    "            a0[0].append(i)\n",
    "            a0[1].append(j)\n",
    "a0=np.array(a0)\n"
   ]
  },
  {
   "cell_type": "code",
   "execution_count": 15,
   "metadata": {},
   "outputs": [
    {
     "name": "stdout",
     "output_type": "stream",
     "text": [
      "(2, 9525)\n"
     ]
    },
    {
     "data": {
      "text/plain": [
       "<matplotlib.colorbar.Colorbar at 0x3a89b9a00>"
      ]
     },
     "execution_count": 15,
     "metadata": {},
     "output_type": "execute_result"
    },
    {
     "data": {
      "image/png": "[encoded data removed]",
      "text/plain": [
       "<Figure size 640x480 with 2 Axes>"
      ]
     },
     "metadata": {},
     "output_type": "display_data"
    }
   ],
   "source": [
    "\n",
    "from sklearn.model_selection import train_test_split\n",
    "from sklearn.neighbors import KNeighborsRegressor\n",
    "\n",
    "knn=KNeighborsRegressor(n_neighbors=10)\n",
    "knn.fit(x,y)\n",
    "print(a0.shape)\n",
    "y_pred=knn.predict(a0.T)\n",
    "\n",
    "fluxTb_interp=fluxTb.copy()\n",
    "fluxTb_interp[a0[0],a0[1]]=y_pred\n",
    "#plt.pcolormesh(fluxTb_interp.T,cmap='jet',norm=matplotlib.colors.LogNorm(vmin=1e-7,vmax=1e-3))\n",
    "from scipy.ndimage import gaussian_filter\n",
    "fluxTb_interp=gaussian_filter(fluxTb_interp,sigma=1)\n",
    "temp_def=30-np.arange(120)\n",
    "q_def=0.00005*np.arange(210)\n",
    "plt.pcolormesh(temp_def,q_def,fluxTb_interp.T,cmap='jet',norm=matplotlib.colors.LogNorm(vmin=1e-7,vmax=1e-3))\n",
    "plt.colorbar()"
   ]
  },
  {
   "cell_type": "code",
   "execution_count": 16,
   "metadata": {},
   "outputs": [],
   "source": [
    "import xarray as xr\n",
    "\n",
    "ds=xr.Dataset({'fluxTable':(['temp','q'],fluxTb_interp)},coords={'temp':temp_def,'q':q_def}) \n",
    "ds.to_netcdf('precipFluxTable.nc')"
   ]
  },
  {
   "cell_type": "code",
   "execution_count": 17,
   "metadata": {},
   "outputs": [],
   "source": [
    "r=np.random.random(len(a[0]))\n",
    "b=np.nonzero(r<0.2)\n",
    "y1=[]\n",
    "y2=[]\n",
    "for it,i1,j1,k1 in zip(a[0][b],a[1][b],a[2][b],a[3][b]):\n",
    "    it1=int((-x_phy[it,i1,j1,k1,1])+30)\n",
    "    iq=int(x_phy[it,i1,j1,k1,2]/0.00005)\n",
    "    \n",
    "    if iq<0:\n",
    "        iq=0\n",
    "    if iq>179:\n",
    "        iq=179\n",
    "    if it1<0:\n",
    "        it1=0\n",
    "    if it1>119:\n",
    "        it1=199\n",
    "    y1.append(fluxTb_interp[it1,iq])\n",
    "    y2.append(dq_dt[it,i1,j1,k1])"
   ]
  },
  {
   "cell_type": "code",
   "execution_count": 102,
   "metadata": {},
   "outputs": [
    {
     "name": "stdout",
     "output_type": "stream",
     "text": [
      "[[1.         0.95620942]\n",
      " [0.95620942 1.        ]]\n"
     ]
    }
   ],
   "source": [
    "print(np.corrcoef(y1,y2))"
   ]
  },
  {
   "cell_type": "code",
   "execution_count": 25,
   "metadata": {},
   "outputs": [],
   "source": [
    "\n",
    "training_set = TensorDataset(torch.from_numpy(x_train[a[0],:]).float(), torch.from_numpy(y_train[a[0],:]).float())\n",
    "data_loader = DataLoader(training_set, batch_size=128, shuffle=True, num_workers=4, pin_memory=True)"
   ]
  },
  {
   "cell_type": "code",
   "execution_count": 82,
   "metadata": {},
   "outputs": [
    {
     "name": "stdout",
     "output_type": "stream",
     "text": [
      "Epoch: 1 \tTraining Loss: 0.000240\n"
     ]
    }
   ],
   "source": [
    "#import optimizer\n",
    "from torch import optim\n",
    "# define optimizer\n",
    "optimizer = optim.Adam(model_sed.parameters(), lr=0.001)\n",
    "# define loss function\n",
    "loss=nn.MSELoss()\n",
    "# define number of epochs\n",
    "n_epochs = 1\n",
    "# empty list to store training losses\n",
    "train_losses = []\n",
    "# training loop\n",
    "for epoch in range(n_epochs):\n",
    "    # monitor training loss\n",
    "    train_loss = 0.0\n",
    "    ###################\n",
    "    # train the model #\n",
    "    ###################\n",
    "    for data, target in data_loader:\n",
    "        # clear the gradients of all optimized variables\n",
    "        optimizer.zero_grad()\n",
    "        # forward pass: compute predicted outputs by passing inputs to the model\n",
    "        output = model_sed(data)\n",
    "        # calculate the loss\n",
    "        target=target.squeeze()\n",
    "        loss_output=loss(output.squeeze(), target)\n",
    "        # backward pass: compute gradient of the loss with respect to model parameters\n",
    "        loss_output.backward()\n",
    "        # perform a single optimization step (parameter update)\n",
    "        optimizer.step()\n",
    "        # update running training loss\n",
    "        train_loss += loss_output.item()*data.size(0)\n",
    "        \n",
    "    # print training statistics \n",
    "    # calculate average loss over an epoch\n",
    "    train_loss = train_loss/len(data_loader.dataset)\n",
    "    train_losses.append(train_loss)\n",
    "    print('Epoch: {} \\tTraining Loss: {:.6f}'.format(epoch+1, train_loss))"
   ]
  },
  {
   "cell_type": "code",
   "execution_count": 122,
   "metadata": {},
   "outputs": [
    {
     "name": "stderr",
     "output_type": "stream",
     "text": [
      "100%|██████████| 300/300 [00:58<00:00,  5.12it/s]\n"
     ]
    }
   ],
   "source": [
    "\n",
    "q1=q0.copy()\n",
    "qL=[]\n",
    "import tqdm\n",
    "for it in tqdm.tqdm(range(300)):\n",
    "    #flux=((10**y_test_-1)*1e-4)[:,::-1]\n",
    "    flux=((10**nn_fluxes-1)*1e-4).reshape(x2d_iterated.shape[0],64)\n",
    "    for i in range(62,-1,-1):\n",
    "        q1[:,i]=q0[:,i]+2*(-flux[:,i]+flux[:,i+1])/dz[i]/rho_avg[i]\n",
    "    q1[:,63]=q0[:,63]-2*flux[:,63]/dz[63]\n",
    "    q1[q1<0]=0\n",
    "    x2d_iterated[:,:,2]=np.log10(1+q1/1e-4)[:]\n",
    "    x_test_iterated=np.reshape(x2d_iterated,(x2d_iterated.shape[0]*64,-1))\n",
    "    nn_fluxes=model_sed2(torch.from_numpy(x_test_iterated).float())[:,0].detach().numpy()\n",
    "    q0=q1.copy()\n",
    "    if it%10==0:\n",
    "        qL.append(q0.mean(axis=0))"
   ]
  },
  {
   "cell_type": "code",
   "execution_count": 125,
   "metadata": {},
   "outputs": [
    {
     "data": {
      "text/plain": [
       "[<matplotlib.lines.Line2D at 0x4828321f0>]"
      ]
     },
     "execution_count": 125,
     "metadata": {},
     "output_type": "execute_result"
    },
    {
     "data": {
      "image/png": "[encoded data removed]",
      "text/plain": [
       "<Figure size 640x480 with 1 Axes>"
      ]
     },
     "metadata": {},
     "output_type": "display_data"
    }
   ],
   "source": [
    "plt.plot(np.array(qL)[:7,:].mean(axis=0),zh[:64])\n",
    "plt.plot(np.array(qL)[:1,:].mean(axis=0),zh[:64])\n",
    "plt.plot(np.array(qL)[-2:,:].mean(axis=0),zh[:64])"
   ]
  },
  {
   "cell_type": "code",
   "execution_count": 112,
   "metadata": {},
   "outputs": [
    {
     "data": {
      "text/plain": [
       "<matplotlib.collections.QuadMesh at 0x480d38940>"
      ]
     },
     "execution_count": 112,
     "metadata": {},
     "output_type": "execute_result"
    },
    {
     "data": {
      "image/png": "[encoded data removed]",
      "text/plain": [
       "<Figure size 640x480 with 1 Axes>"
      ]
     },
     "metadata": {},
     "output_type": "display_data"
    }
   ],
   "source": [
    "#print(x_reshaped.shape)\n",
    "#plt.plot(qL[-1],zh[:64])\n",
    "#plt.plot(zh[:64],x_reshaped[0,:64,2])\n",
    "plt.pcolormesh(range(len(qL)),zh[:64],np.array(qL).T,cmap=\"jet\",norm=matplotlib.colors.LogNorm(vmax=0.001,vmin=0.00001))"
   ]
  },
  {
   "cell_type": "code",
   "execution_count": null,
   "metadata": {},
   "outputs": [],
   "source": []
  },
  {
   "cell_type": "code",
   "execution_count": 53,
   "metadata": {},
   "outputs": [
    {
     "name": "stdout",
     "output_type": "stream",
     "text": [
      "(61440, 64, 1)\n",
      "(61440, 64)\n"
     ]
    }
   ],
   "source": [
    "print(flux.shape)\n",
    "print(q1.shape)"
   ]
  }
 ],
 "metadata": {
  "kernelspec": {
   "display_name": "base",
   "language": "python",
   "name": "python3"
  },
  "language_info": {
   "codemirror_mode": {
    "name": "ipython",
    "version": 3
   },
   "file_extension": ".py",
   "mimetype": "text/x-python",
   "name": "python",
   "nbconvert_exporter": "python",
   "pygments_lexer": "ipython3",
   "version": "3.9.13"
  }
 },
 "nbformat": 4,
 "nbformat_minor": 2
}
