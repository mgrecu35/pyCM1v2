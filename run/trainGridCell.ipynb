{
 "cells": [
  {
   "cell_type": "code",
   "execution_count": 1,
   "metadata": {},
   "outputs": [
    {
     "name": "stdout",
     "output_type": "stream",
     "text": [
      "[0.004881462547928095 0.00011783552326960489 0.000140866992296651\n",
      " 4.451714630704373e-05 8.387665002373978e-05 0.0005601696320809424\n",
      " 89667.5234375 7913.6083984375 3284.5927734375 2344.15869140625]\n"
     ]
    }
   ],
   "source": [
    "import os\n",
    "import sys\n",
    "import matplotlib.pyplot as plt\n",
    "import numpy as np\n",
    "from netCDF4 import Dataset\n",
    "\n",
    "\n",
    "\n",
    "\n",
    "m_time=0\n",
    "imicro=0\n",
    "with Dataset('gridcell_sat_ten.nc','r') as ncFile:\n",
    "    x1=ncFile.variables['x1'][:]\n",
    "    x2=ncFile.variables['x2'][:]\n",
    "    x3=ncFile.variables['x3'][:]\n",
    "    y1=ncFile.variables['y1'][:]\n",
    "    y2=ncFile.variables['y2'][:]\n",
    "\n",
    "print(x1.std(axis=0))"
   ]
  },
  {
   "cell_type": "code",
   "execution_count": 2,
   "metadata": {},
   "outputs": [],
   "source": [
    "x=np.concatenate((x1[:,:6]*1e3,(x2[:,np.newaxis]-200)/90,x3[:,np.newaxis]/1e5),axis=-1)\n",
    "y=np.concatenate((y1[:,:6]*1e3,y2[:,np.newaxis]),axis=-1)"
   ]
  },
  {
   "cell_type": "code",
   "execution_count": 26,
   "metadata": {},
   "outputs": [],
   "source": [
    "from sklearn.model_selection import train_test_split\n",
    "# import standard scaler\n",
    "from sklearn.preprocessing import StandardScaler\n",
    "scalerX=StandardScaler()\n",
    "scalerY=StandardScaler()\n",
    "x=scalerX.fit_transform(x)\n",
    "y=scalerY.fit_transform(y)\n",
    "x_train,x_test,y_train,y_test=train_test_split(x,y,test_size=0.3)\n",
    "\n",
    "from sklearn.cluster import MiniBatchKMeans\n",
    "#\n",
    "\n",
    "#from sklearn.neighbors import KNeighborsRegressor\n",
    "#knn=KNeighborsRegressor(n_neighbors=20,weights='distance')\n",
    "#r=np.random.random(x_train.shape[0])\n",
    "#a=np.nonzero(r<0.9)[0]\n",
    "#knn.fit(x_train[a],y_train[a])\n",
    "#kmeans.fit(x_train)\n",
    "#from sklearn.ensemble import GradientBoostingRegressor\n",
    "#gbr=GradientBoostingRegressor(n_estimators=10,learning_rate=0.1,random_state=0,loss='ls')\n",
    "#gbr.fit(x_train,y_train[:,3])"
   ]
  },
  {
   "cell_type": "code",
   "execution_count": 17,
   "metadata": {},
   "outputs": [
    {
     "data": {
      "text/html": [
       "<style>#sk-container-id-2 {color: black;background-color: white;}#sk-container-id-2 pre{padding: 0;}#sk-container-id-2 div.sk-toggleable {background-color: white;}#sk-container-id-2 label.sk-toggleable__label {cursor: pointer;display: block;width: 100%;margin-bottom: 0;padding: 0.3em;box-sizing: border-box;text-align: center;}#sk-container-id-2 label.sk-toggleable__label-arrow:before {content: \"▸\";float: left;margin-right: 0.25em;color: #696969;}#sk-container-id-2 label.sk-toggleable__label-arrow:hover:before {color: black;}#sk-container-id-2 div.sk-estimator:hover label.sk-toggleable__label-arrow:before {color: black;}#sk-container-id-2 div.sk-toggleable__content {max-height: 0;max-width: 0;overflow: hidden;text-align: left;background-color: #f0f8ff;}#sk-container-id-2 div.sk-toggleable__content pre {margin: 0.2em;color: black;border-radius: 0.25em;background-color: #f0f8ff;}#sk-container-id-2 input.sk-toggleable__control:checked~div.sk-toggleable__content {max-height: 200px;max-width: 100%;overflow: auto;}#sk-container-id-2 input.sk-toggleable__control:checked~label.sk-toggleable__label-arrow:before {content: \"▾\";}#sk-container-id-2 div.sk-estimator input.sk-toggleable__control:checked~label.sk-toggleable__label {background-color: #d4ebff;}#sk-container-id-2 div.sk-label input.sk-toggleable__control:checked~label.sk-toggleable__label {background-color: #d4ebff;}#sk-container-id-2 input.sk-hidden--visually {border: 0;clip: rect(1px 1px 1px 1px);clip: rect(1px, 1px, 1px, 1px);height: 1px;margin: -1px;overflow: hidden;padding: 0;position: absolute;width: 1px;}#sk-container-id-2 div.sk-estimator {font-family: monospace;background-color: #f0f8ff;border: 1px dotted black;border-radius: 0.25em;box-sizing: border-box;margin-bottom: 0.5em;}#sk-container-id-2 div.sk-estimator:hover {background-color: #d4ebff;}#sk-container-id-2 div.sk-parallel-item::after {content: \"\";width: 100%;border-bottom: 1px solid gray;flex-grow: 1;}#sk-container-id-2 div.sk-label:hover label.sk-toggleable__label {background-color: #d4ebff;}#sk-container-id-2 div.sk-serial::before {content: \"\";position: absolute;border-left: 1px solid gray;box-sizing: border-box;top: 0;bottom: 0;left: 50%;z-index: 0;}#sk-container-id-2 div.sk-serial {display: flex;flex-direction: column;align-items: center;background-color: white;padding-right: 0.2em;padding-left: 0.2em;position: relative;}#sk-container-id-2 div.sk-item {position: relative;z-index: 1;}#sk-container-id-2 div.sk-parallel {display: flex;align-items: stretch;justify-content: center;background-color: white;position: relative;}#sk-container-id-2 div.sk-item::before, #sk-container-id-2 div.sk-parallel-item::before {content: \"\";position: absolute;border-left: 1px solid gray;box-sizing: border-box;top: 0;bottom: 0;left: 50%;z-index: -1;}#sk-container-id-2 div.sk-parallel-item {display: flex;flex-direction: column;z-index: 1;position: relative;background-color: white;}#sk-container-id-2 div.sk-parallel-item:first-child::after {align-self: flex-end;width: 50%;}#sk-container-id-2 div.sk-parallel-item:last-child::after {align-self: flex-start;width: 50%;}#sk-container-id-2 div.sk-parallel-item:only-child::after {width: 0;}#sk-container-id-2 div.sk-dashed-wrapped {border: 1px dashed gray;margin: 0 0.4em 0.5em 0.4em;box-sizing: border-box;padding-bottom: 0.4em;background-color: white;}#sk-container-id-2 div.sk-label label {font-family: monospace;font-weight: bold;display: inline-block;line-height: 1.2em;}#sk-container-id-2 div.sk-label-container {text-align: center;}#sk-container-id-2 div.sk-container {/* jupyter's `normalize.less` sets `[hidden] { display: none; }` but bootstrap.min.css set `[hidden] { display: none !important; }` so we also need the `!important` here to be able to override the default hidden behavior on the sphinx rendered scikit-learn.org. See: https://github.com/scikit-learn/scikit-learn/issues/21755 */display: inline-block !important;position: relative;}#sk-container-id-2 div.sk-text-repr-fallback {display: none;}</style><div id=\"sk-container-id-2\" class=\"sk-top-container\"><div class=\"sk-text-repr-fallback\"><pre>MiniBatchKMeans(batch_size=10000, n_clusters=500)</pre><b>In a Jupyter environment, please rerun this cell to show the HTML representation or trust the notebook. <br />On GitHub, the HTML representation is unable to render, please try loading this page with nbviewer.org.</b></div><div class=\"sk-container\" hidden><div class=\"sk-item\"><div class=\"sk-estimator sk-toggleable\"><input class=\"sk-toggleable__control sk-hidden--visually\" id=\"sk-estimator-id-2\" type=\"checkbox\" checked><label for=\"sk-estimator-id-2\" class=\"sk-toggleable__label sk-toggleable__label-arrow\">MiniBatchKMeans</label><div class=\"sk-toggleable__content\"><pre>MiniBatchKMeans(batch_size=10000, n_clusters=500)</pre></div></div></div></div></div>"
      ],
      "text/plain": [
       "MiniBatchKMeans(batch_size=10000, n_clusters=500)"
      ]
     },
     "execution_count": 17,
     "metadata": {},
     "output_type": "execute_result"
    }
   ],
   "source": [
    "# import kmeans\n",
    "from sklearn.cluster import KMeans,MiniBatchKMeans\n",
    "nclusters=500\n",
    "kmeans=MiniBatchKMeans(n_clusters=nclusters,batch_size=10000)\n",
    "kmeans.fit(x_train)\n"
   ]
  },
  {
   "cell_type": "code",
   "execution_count": 20,
   "metadata": {},
   "outputs": [],
   "source": [
    "\n",
    "yclusterL=np.zeros((nclusters,7),float)\n",
    "nm=np.zeros(nclusters,int)\n",
    "for i in range(nclusters):\n",
    "    a=np.nonzero(kmeans.labels_==i)[0]\n",
    "    if len(a>0):\n",
    "        yclusterL[i,:]=y_train[a,:].mean(axis=0)\n",
    "        nm[i]=len(a)\n"
   ]
  },
  {
   "cell_type": "code",
   "execution_count": 21,
   "metadata": {},
   "outputs": [
    {
     "name": "stdout",
     "output_type": "stream",
     "text": [
      "130519 0 5186.668\n"
     ]
    }
   ],
   "source": [
    "print(nm.max(),nm.min(),nm.mean())"
   ]
  },
  {
   "cell_type": "code",
   "execution_count": 22,
   "metadata": {},
   "outputs": [],
   "source": [
    "y_class=kmeans.predict(x_test)\n",
    "y_pred=yclusterL[y_class,:]"
   ]
  },
  {
   "cell_type": "code",
   "execution_count": 24,
   "metadata": {},
   "outputs": [
    {
     "name": "stdout",
     "output_type": "stream",
     "text": [
      "[[1.         0.66367273]\n",
      " [0.66367273 1.        ]]\n",
      "[[1.         0.33163223]\n",
      " [0.33163223 1.        ]]\n",
      "[[1.         0.27873016]\n",
      " [0.27873016 1.        ]]\n",
      "[[1.         0.27930482]\n",
      " [0.27930482 1.        ]]\n",
      "[[1.         0.68953841]\n",
      " [0.68953841 1.        ]]\n",
      "[[1.         0.47369214]\n",
      " [0.47369214 1.        ]]\n",
      "[[1.         0.63992732]\n",
      " [0.63992732 1.        ]]\n"
     ]
    }
   ],
   "source": [
    "for i in range(7):\n",
    "    print(np.corrcoef(y_test[:,i],y_pred[:,i]))"
   ]
  },
  {
   "cell_type": "code",
   "execution_count": 59,
   "metadata": {},
   "outputs": [],
   "source": [
    "# define tensoflow model to predict the y from x using feedforward neural network\n",
    "import tensorflow as tf\n",
    "from tensorflow import keras\n",
    "from tensorflow.keras import layers\n",
    "from tensorflow.keras.layers import Dense, Dropout, Activation, Flatten\n",
    "from tensorflow.keras.models import Sequential\n",
    "from tensorflow.keras.optimizers import SGD\n",
    "from tensorflow.keras.optimizers import Adam\n",
    "from tensorflow.keras.callbacks import EarlyStopping\n",
    "\n",
    "# define the model\n",
    "model=Sequential()\n",
    "model.add(Dense(64,input_dim=8,activation='relu'))\n",
    "model.add(Dropout(0.1))\n",
    "model.add(Dense(128,activation='relu'))\n",
    "model.add(Dropout(0.1))\n",
    "model.add(Dense(64,activation='relu'))\n",
    "model.add(Dropout(0.1))\n",
    "model.add(Dense(7,activation='linear'))"
   ]
  },
  {
   "cell_type": "code",
   "execution_count": 60,
   "metadata": {},
   "outputs": [
    {
     "name": "stdout",
     "output_type": "stream",
     "text": [
      "Model: \"sequential_1\"\n",
      "_________________________________________________________________\n",
      " Layer (type)                Output Shape              Param #   \n",
      "=================================================================\n",
      " dense_4 (Dense)             (None, 64)                576       \n",
      "                                                                 \n",
      " dropout_3 (Dropout)         (None, 64)                0         \n",
      "                                                                 \n",
      " dense_5 (Dense)             (None, 64)                4160      \n",
      "                                                                 \n",
      " dropout_4 (Dropout)         (None, 64)                0         \n",
      "                                                                 \n",
      " dense_6 (Dense)             (None, 7)                 455       \n",
      "                                                                 \n",
      "=================================================================\n",
      "Total params: 5191 (20.28 KB)\n",
      "Trainable params: 5191 (20.28 KB)\n",
      "Non-trainable params: 0 (0.00 Byte)\n",
      "_________________________________________________________________\n",
      "None\n"
     ]
    }
   ],
   "source": [
    "# compile the model\n",
    "model.compile(loss='mse',optimizer='adam',metrics=['mse','mae'])\n",
    "print(model.summary())"
   ]
  },
  {
   "cell_type": "code",
   "execution_count": 64,
   "metadata": {},
   "outputs": [
    {
     "name": "stdout",
     "output_type": "stream",
     "text": [
      "Epoch 1/3\n",
      "81042/81042 [==============================] - 64s 784us/step - loss: 6.4118e-06 - mse: 6.4118e-06 - mae: 2.4935e-04 - val_loss: 2.4501e-06 - val_mse: 2.4501e-06 - val_mae: 7.1577e-04\n",
      "Epoch 2/3\n",
      "81042/81042 [==============================] - 62s 771us/step - loss: 3.9451e-06 - mse: 3.9451e-06 - mae: 2.2344e-04 - val_loss: 1.2324e-06 - val_mse: 1.2324e-06 - val_mae: 1.1398e-04\n",
      "Epoch 3/3\n",
      "81042/81042 [==============================] - 62s 760us/step - loss: 3.6082e-06 - mse: 3.6082e-06 - mae: 2.1948e-04 - val_loss: 1.6569e-06 - val_mse: 1.6569e-06 - val_mae: 1.2517e-04\n"
     ]
    }
   ],
   "source": [
    "history=model.fit(x_train,y_train[:,3:4],epochs=3,batch_size=32,validation_data=(x_test,y_test[:,3:4]))"
   ]
  },
  {
   "cell_type": "code",
   "execution_count": 65,
   "metadata": {},
   "outputs": [
    {
     "name": "stdout",
     "output_type": "stream",
     "text": [
      "34733/34733 [==============================] - 9s 264us/step\n"
     ]
    }
   ],
   "source": [
    "y_pred_nn=model.predict(x_test)\n",
    "#y_pred_nn=knn.predict(x_test)"
   ]
  },
  {
   "cell_type": "code",
   "execution_count": 67,
   "metadata": {},
   "outputs": [
    {
     "name": "stdout",
     "output_type": "stream",
     "text": [
      "0.7964332050327055\n"
     ]
    },
    {
     "data": {
      "image/png": "[encoded data removed]",
      "text/plain": [
       "<Figure size 640x480 with 1 Axes>"
      ]
     },
     "metadata": {},
     "output_type": "display_data"
    }
   ],
   "source": [
    "from matplotlib.colors import LogNorm\n",
    "for i in range(3,4):\n",
    "    ax=plt.subplot(3,3,i+1)\n",
    "    h2=plt.hist2d(y_pred_nn[:,i-3],y_test[:,i],bins=100,norm=LogNorm())\n",
    "    ax.set_aspect('equal')\n",
    "    ystd=y_test[:,i].std()\n",
    "    ymean=y_test[:,i].mean()\n",
    "    ymin,ymax=ymean-50*ystd,ymean+50*ystd\n",
    "    plt.xlim(ymin,ymax)\n",
    "    plt.ylim(ymin,ymax)\n",
    "    plt.title('x'+str(i+1))\n",
    "    print(np.corrcoef(y_pred_nn[:,i-3],y_test[:,i])[0,1])\n"
   ]
  },
  {
   "cell_type": "markdown",
   "metadata": {},
   "source": [
    "0.9535395490199483\n",
    "0.919947639582356\n",
    "0.8935728377799559\n",
    "0.80326279155083\n",
    "0.8812137563989517\n",
    "0.8656440321533745\n",
    "0.9572241634896619"
   ]
  },
  {
   "cell_type": "code",
   "execution_count": 17,
   "metadata": {},
   "outputs": [
    {
     "name": "stdout",
     "output_type": "stream",
     "text": [
      "[0.30879748 0.10488301 0.08973063 0.0654903  0.04840803 0.03125226\n",
      " 0.02668969 0.02160023 0.0197062  0.01780255 0.01572404 0.01469852\n",
      " 0.01219915 0.01145244 0.01127044 0.01084682 0.01060054 0.00971735\n",
      " 0.00832586 0.00767239 0.00724144 0.00712448 0.00701564 0.00629785\n",
      " 0.00597932 0.00571597 0.00564926 0.00532453 0.00525901 0.00475379]\n"
     ]
    }
   ],
   "source": [
    "# import PCA\n",
    "from sklearn.decomposition import PCA\n",
    "pca=PCA(n_components=30)\n",
    "pca.fit(x_train)\n"
   ]
  },
  {
   "cell_type": "code",
   "execution_count": 18,
   "metadata": {},
   "outputs": [
    {
     "name": "stdout",
     "output_type": "stream",
     "text": [
      "[0.30879748 0.4136805  0.50341113 0.56890144 0.61730946 0.64856173\n",
      " 0.67525142 0.69685165 0.71655786 0.73436041 0.75008445 0.76478297\n",
      " 0.77698212 0.78843456 0.799705   0.81055182 0.82115236 0.83086971\n",
      " 0.83919558 0.84686797 0.8541094  0.86123388 0.86824952 0.87454738\n",
      " 0.8805267  0.88624267 0.89189193 0.89721646 0.90247546 0.90722925]\n"
     ]
    }
   ],
   "source": [
    "\n",
    "print(pca.explained_variance_ratio_.cumsum())"
   ]
  },
  {
   "cell_type": "code",
   "execution_count": 19,
   "metadata": {},
   "outputs": [],
   "source": [
    "x_train_pca=pca.transform(x_train)  \n",
    "x_test_pca=pca.transform(x_test)\n",
    "knnpca.fit(x_train_pca,y_train)\n",
    "y_pca=knnpca.predict(x_test_pca)"
   ]
  },
  {
   "cell_type": "code",
   "execution_count": 25,
   "metadata": {},
   "outputs": [],
   "source": [
    "from sklearn.neighbors import NearestNeighbors\n",
    "import time\n",
    "t1=time.time()\n",
    "r=np.random.random(x_train_pca.shape[0])\n",
    "a=np.nonzero(r<0.1)\n",
    "knnpca=KNeighborsRegressor(n_neighbors=30,weights='distance')\n",
    "knnpca.fit(x_train_pca[a],y_train[a])\n",
    "y_pca=knnpca.predict(x_test_pca)"
   ]
  },
  {
   "cell_type": "code",
   "execution_count": 27,
   "metadata": {},
   "outputs": [],
   "source": [
    "import pickle\n",
    "pickle.dump({\"scalerX\":scalerX,\"pca\":pca,\"knnRegr\":knnpca},open('knnRegr.pkl','wb'))"
   ]
  },
  {
   "cell_type": "code",
   "execution_count": 5,
   "metadata": {},
   "outputs": [
    {
     "name": "stdout",
     "output_type": "stream",
     "text": [
      "True\n",
      "217800\n"
     ]
    }
   ],
   "source": [
    "import faiss\n",
    "d=x_train.shape[1]                   # make faiss available\n",
    "index = faiss.IndexFlatL2(d)   # build the index\n",
    "print(index.is_trained)\n",
    "index.add(x_train)                  # add vectors to the index\n",
    "print(index.ntotal)"
   ]
  },
  {
   "cell_type": "code",
   "execution_count": 8,
   "metadata": {},
   "outputs": [],
   "source": [
    "nneigh=50\n",
    "D, I = index.search(x_test[:], nneigh) \n",
    "import pickle\n",
    "pickle.dump({\"x_scaled\":x_train,\"scalerX\":scalerX,\"tend\":y_train},open('index.pkl','wb'))\n"
   ]
  },
  {
   "cell_type": "code",
   "execution_count": null,
   "metadata": {},
   "outputs": [],
   "source": [
    "import pickle\n"
   ]
  },
  {
   "cell_type": "code",
   "execution_count": 9,
   "metadata": {},
   "outputs": [
    {
     "name": "stdout",
     "output_type": "stream",
     "text": [
      "(24200, 210)\n"
     ]
    }
   ],
   "source": [
    "print(x_test.shape)"
   ]
  },
  {
   "cell_type": "code",
   "execution_count": 48,
   "metadata": {},
   "outputs": [
    {
     "name": "stdout",
     "output_type": "stream",
     "text": [
      "[4.4703484e-08 5.2154064e-08 5.9604645e-08 8.1956387e-08 1.1920929e-07\n",
      " 1.5646219e-07 3.3527613e-07 4.2468309e-07 6.1094761e-07 8.3446503e-07\n",
      " 1.3038516e-06 1.3485551e-06 1.7210841e-06 1.7657876e-06 2.0712614e-06\n",
      " 2.1830201e-06 1.9540340e-03 1.9544065e-03 1.9556731e-03 1.9565597e-03] [ 89654 201369 150443 152378  78875 216187  20388   4750  30664 111017\n",
      " 158650 207327 159630 153393  94073   4476 203295 166408  32439 159087]\n",
      "(24200, 440)\n"
     ]
    }
   ],
   "source": [
    "print(D[0],I[0])\n",
    "print(y_test.shape)"
   ]
  },
  {
   "cell_type": "code",
   "execution_count": 26,
   "metadata": {},
   "outputs": [
    {
     "name": "stdout",
     "output_type": "stream",
     "text": [
      "[0.9468889715553259, 0.9423141219480339]\n",
      "[-0.14 -0.13 -0.12 -0.11 -0.1  -0.09 -0.08 -0.07 -0.06 -0.05 -0.04 -0.03\n",
      " -0.02 -0.01  0.  ]\n"
     ]
    },
    {
     "data": {
      "image/png": "[encoded data removed]",
      "text/plain": [
       "<Figure size 640x480 with 1 Axes>"
      ]
     },
     "metadata": {},
     "output_type": "display_data"
    }
   ],
   "source": [
    "\n",
    "y_=np.mean(y_train[I],axis=1)\n",
    "yL=[]\n",
    "for k,i1 in enumerate(I):\n",
    "    yL.append(np.dot(y_train[i1].T,np.exp(-0.125*D[k]))/np.exp(-0.125*D[k]).sum())\n",
    "#print(y_.shape)\n",
    "y_=y_pca\n",
    "import matplotlib\n",
    "plt.hist2d(y_[:,410],y_test[:,410],bins=-0.14+np.arange(0,0.20,0.002),cmap='jet',norm=matplotlib.colors.LogNorm())\n",
    "print([np.corrcoef(y_[:,i],y_test[:,i])[0,1] for i in range(409,411)])\n",
    "print(-0.14+np.arange(0,0.14,0.01))"
   ]
  }
 ],
 "metadata": {
  "kernelspec": {
   "display_name": "base",
   "language": "python",
   "name": "python3"
  },
  "language_info": {
   "codemirror_mode": {
    "name": "ipython",
    "version": 3
   },
   "file_extension": ".py",
   "mimetype": "text/x-python",
   "name": "python",
   "nbconvert_exporter": "python",
   "pygments_lexer": "ipython3",
   "version": "3.9.13"
  }
 },
 "nbformat": 4,
 "nbformat_minor": 2
}
